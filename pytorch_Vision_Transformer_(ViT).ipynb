{
  "cells": [
    {
      "cell_type": "markdown",
      "metadata": {
        "id": "view-in-github",
        "colab_type": "text"
      },
      "source": [
        "<a href=\"https://colab.research.google.com/github/VesalAhsani/pytorch_Vision_Transformer/blob/main/pytorch_Vision_Transformer_(ViT).ipynb\" target=\"_parent\"><img src=\"https://colab.research.google.com/assets/colab-badge.svg\" alt=\"Open In Colab\"/></a>"
      ]
    },
    {
      "cell_type": "markdown",
      "source": [
        "# Vision Transformer implementation in Pytorch\n",
        "\n",
        "#### Originally, this notebook is a part of [*Deep Learning wih PyTorch*](https://github.com/VesalAhsani/Deep-learning-with-PyTorch) class I taught for grad students.\n",
        "\n",
        "##### You can also find this notebook in [here](https://github.com/VesalAhsani/Deep-learning-with-PyTorch/blob/main/6_PyTorch_Transformers_ViT.ipynb).\n",
        "\n"
      ],
      "metadata": {
        "id": "4UCqU28OHEK0"
      },
      "id": "4UCqU28OHEK0"
    },
    {
      "cell_type": "markdown",
      "id": "873828f0-e50f-40b9-9879-f9a01adaa020",
      "metadata": {
        "tags": [],
        "id": "873828f0-e50f-40b9-9879-f9a01adaa020"
      },
      "source": [
        "# PyTorch Transformers\n",
        "\n",
        "We're going to focus on recreating the Vision Transformer (ViT) computer vision architecture and applying it to our Food101 dataset to classify different images of pizza, steak and sushi.\n",
        "\n",
        "* **ViT paper** - Short hand for the original machine learning research paper that introduced the ViT architecture, [*An Image is Worth 16x16 Words: Transformers for Image Recognition at Scale*](https://arxiv.org/abs/2010.11929).\n",
        "\n",
        "The Transformer neural network architecture was originally introduced in the machine learning research paper [*Attention is all you need*](https://arxiv.org/abs/1706.03762).\n",
        "\n",
        "And the original Transformer architecture was designed to work on one-dimensional (1D) sequences of text.\n",
        "\n",
        "A **Transformer architecture** is generally considered to be any neural network that uses the [**attention mechanism**](https://en.wikipedia.org/wiki/Attention_(machine_learning)) as its primary learning layer. Similar to a how a convolutional neural network (CNN) uses convolutions as its primary learning layer.\n",
        "\n",
        "The original Vision Transformer has been through several iterations over the past couple of years, however, we're going to focus on replicating the original, otherwise known as the \"vanilla Vision Transformer\". Because if you can recreate the original, you can adapt to the others. "
      ]
    },
    {
      "cell_type": "markdown",
      "id": "b09a7ccf-41e8-4ee4-8d78-aff5f650ca7f",
      "metadata": {
        "id": "b09a7ccf-41e8-4ee4-8d78-aff5f650ca7f"
      },
      "source": [
        "## Where can you find code examples for machine learning research papers?\n",
        "\n",
        "there are several places to find and read machine learning research papers (and code):\n",
        "\n",
        "| **Resource** | **What is it?** |\n",
        "| ----- | ----- |\n",
        "| [arXiv](https://arxiv.org/) | Pronounced \"archive\", arXiv is a free and open resource for reading technical articles on everything from physics to computer science (inlcuding machine learning). | \n",
        "| [AK Twitter](https://twitter.com/ak92501) | The AK Twitter account publishes machine learning research highlights, often with live demos almost every day. I don't understand 9/10 posts but I find it fun to explore every so often. |\n",
        "| [Papers with Code](https://paperswithcode.com/) | A curated collection of trending, active and greatest machine learning papers, many of which include code resources attached. Also includes a collection of common machine learning datasets, benchmarks and current state-of-the-art models. |\n",
        "| [lucidrains' `vit-pytorch` GitHub repository](https://github.com/lucidrains/vit-pytorch) | Less of a place to find research papers and more of an example of what paper replicating with code on a larger-scale and with a specific focus looks like. The `vit-pytorch` repository is a collection of Vision Transformer model architectures from various research papers replicated with PyTorch code (much of the inspiration for this notebook was gathered from this repository). |\n",
        "\n",
        "> **Note:** I only list a few places, the ones I use most frequently personally."
      ]
    },
    {
      "cell_type": "markdown",
      "id": "6e7f0a12-cce9-45d0-a572-4ad612a98735",
      "metadata": {
        "id": "6e7f0a12-cce9-45d0-a572-4ad612a98735"
      },
      "source": [
        "### Inputs and outputs, layers and blocks\n",
        "\n",
        "ViT is a deep learning neural network architecture.\n",
        "\n",
        "* **Layer** - takes an input, performs a function on it, returns an output.\n",
        "* **Block** - a collection of layers, takes an input, performs a series of functions on it, returns an output.\n",
        "* **Architecture (or model)** - a collection of blocks, takes an input, performs a series of functions on it, returns an output.\n"
      ]
    },
    {
      "cell_type": "markdown",
      "id": "4c90c4c0-0039-4790-a25b-f14754e6b468",
      "metadata": {
        "id": "4c90c4c0-0039-4790-a25b-f14754e6b468"
      },
      "source": [
        "### What's ViT made of?\n",
        "\n",
        "\n",
        ".\n",
        "\n",
        "\n",
        "<img src=\"https://github.com/VesalAhsani/Deep-learning-with-PyTorch/raw/main/data/ViT.png\" width=900 alt=\"figure 1 from the original vision transformer paper\"/>\n",
        "\n",
        "*Figure 1 from the ViT Paper showcasing the different inputs, outputs, layers and blocks that create the architecture.* \n",
        "\n",
        "The ViT architecture is comprised of several stages:\n",
        "* **Patch + Position Embedding (inputs)** - Turns the input image into a sequence of image patches and add a position number what order the patch comes in.\n",
        "* **Linear projection of flattened patches (Embedded Patches)** - The image patches get turned into an **embedding**, the benefit of using an embedding rather than just the image values is that an embedding is a *learnable* representation (typically in the form of a vector) of the image that can improve with training.\n",
        "* **Norm** - This is short for \"[Layer Normalization](https://paperswithcode.com/method/layer-normalization)\" or \"LayerNorm\", a technique for regularizing (reducing overfitting) a neural network, you can use LayerNorm via the PyTorch layer [`torch.nn.LayerNorm()`](https://pytorch.org/docs/stable/generated/torch.nn.LayerNorm.html).\n",
        "* **Multi-Head Attention** - This is a [Multi-Headed Self-Attention layer](https://paperswithcode.com/method/multi-head-attention) or \"MSA\" for short. You can create an MSA layer via the PyTorch layer [`torch.nn.MultiheadAttention()`](https://pytorch.org/docs/stable/generated/torch.nn.MultiheadAttention.html).\n",
        "* **MLP (or [Multilayer perceptron](https://en.wikipedia.org/wiki/Multilayer_perceptron))** - A MLP can often refer to any collection of feedforward layers (or in PyTorch's case, a collection of layers with a `forward()` method). In the ViT Paper, the authors refer to the MLP as \"MLP block\" and it contains two [`torch.nn.Linear()`](https://pytorch.org/docs/stable/generated/torch.nn.Linear.html) layers with a [`torch.nn.GELU()`](https://pytorch.org/docs/stable/generated/torch.nn.GELU.html) non-linearity activation in between them (section 3.1) and a [`torch.nn.Dropout()`](https://pytorch.org/docs/stable/generated/torch.nn.Dropout.html) layer after each. \n",
        "* **Transformer Encoder** - The Transformer Encoder, is a collection of the layers listed above. There are two skip connections inside the Transformer encoder (the \"+\" symbols) meaning the layer's inputs are fed directly to immediate layers as well as subsequent layers. The overall ViT architecture is comprised of a number of Transformer encoders stacked on top of eachother.\n",
        "* **MLP Head** - This is the output layer of the architecture, it converts the learned features of an input to a class output. Since we're working on image classification, you could also call this the \"classifier head\". The structure of the MLP Head is similar to the MLP block."
      ]
    },
    {
      "cell_type": "markdown",
      "id": "cd36899e-5bc7-411a-aab7-28e3a5a2c6cb",
      "metadata": {
        "id": "cd36899e-5bc7-411a-aab7-28e3a5a2c6cb"
      },
      "source": [
        "#### Exploring Table 1 in the ViT paper\n",
        "\n",
        "\n",
        "\n",
        "| Model | Layers | Hidden size $D$ | MLP size | Heads | Params |\n",
        "| :--- | :---: | :---: | :---: | :---: | :---: |\n",
        "| ViT-Base | 12 | 768 | 3072 | 12 | $86M$ |\n",
        "| ViT-Large | 24 | 1024 | 4096 | 16 | $307M$ |\n",
        "| ViT-Huge | 32 | 1280 | 5120 | 16 | $632M$ |\n",
        "\n",
        "<div align=center>\n",
        "    <i>Table 1: Details of Vision Transformer model variants. Source: <a href=\"https://arxiv.org/abs/2010.11929\">ViT paper</a>.</i>\n",
        "</div>\n",
        "<br>\n",
        "\n",
        "This table showcasing the various hyperparameters of each of the ViT architectures.\n",
        "\n",
        "You can see the numbers gradually increase from ViT-Base to ViT-Huge.\n",
        "\n",
        "\n",
        "Breaking the hyperparameters down:\n",
        "* **Layers** - How many Transformer Encoder blocks are there? (each of these will contain a MSA block and MLP block)\n",
        "* **Hidden size $D$** - This is the embedding dimension throughout the architecture, this will be the size of the vector that our image gets turned into when it gets patched and embedded. Generally, the larger the embedding dimension, the more information can be captured, the better results. However, a larger embedding comes at the cost of more compute.\n",
        "* **MLP size** - What are the number of hidden units in the MLP layers?\n",
        "* **Heads** - How many heads are there in the Multi-Head Attention layers?\n",
        "* **Params** - What are the total number of parameters of the model? Generally, more parameters leads to better performance but at the cost of more compute. You'll notice even ViT-Base has far more parameters than any other model we've used so far.\n",
        "\n",
        "We'll use these values as the hyperparameter settings for our ViT architecture. "
      ]
    },
    {
      "cell_type": "markdown",
      "id": "9f1717f5-f6bc-4cce-b5eb-093822da988d",
      "metadata": {
        "tags": [],
        "id": "9f1717f5-f6bc-4cce-b5eb-093822da988d"
      },
      "source": [
        "### 1: Split data into patches and creating the class, position and patch embedding \n",
        "\n",
        "**\"it's all about the embedding.\"**\n",
        "\n",
        "As in, if you can represent your data in a good, learnable way (as **embeddings are learnable representations**), chances are, a learning algorithm will be able to perform well on them.\n",
        "\n",
        "We'll start with the **patch embedding**.\n",
        "\n",
        "This means we'll be turning our input images in a sequence of patches and then embedding those patches.\n",
        "\n",
        "Recall that an **embedding** is a learnable representation of some form and is often a vector. \n",
        "\n",
        "The term learnable is important because this means the numerical representation of an input image (that the model sees) can be improved over time.\n",
        "\n",
        "> Training resolution is **224**.\n",
        "\n",
        "Let's break down the text above.\n",
        "\n",
        "\n",
        "* The image starts as 2D with size ${H \\times W \\times C}$.\n",
        "    * $(H, W)$ is the resolution of the original image (height, width).\n",
        "    * $C$ is the number of channels.\n",
        "* The image gets converted to a sequence of flattened 2D patches with size ${N \\times\\left(P^{2} \\cdot C\\right)}$.\n",
        "    * $(P, P)$ is the resolution of each image patch (**patch size**).\n",
        "    * $N=H W / P^{2}$ is the resulting number of patches, which also serves as the input sequence length for the Transformer.\n",
        "\n",
        "input and output shapes of the patch embedding layer.\n",
        "\n",
        "* **Input:** The image starts as 2D with size ${H \\times W \\times C}$.\n",
        "* **Output:** The image gets converted to a sequence of flattened 2D patches with size ${N \\times\\left(P^{2} \\cdot C\\right)}$.\n",
        "\n",
        "for an image size of 224 and patch size of 16:\n",
        "\n",
        "* **Input (2D image):** (224, 224, 3) -> (height, width, color channels)\n",
        "* **Output (flattened 2D patches):** (196, 768) -> (number of patches, embedding dimension)"
      ]
    },
    {
      "cell_type": "markdown",
      "id": "f774b58d-7095-4272-aba3-fd9a2db4f28f",
      "metadata": {
        "id": "f774b58d-7095-4272-aba3-fd9a2db4f28f"
      },
      "source": [
        "### 2: Creating image patches with `torch.nn.Conv2d()`\n",
        "\n",
        "By setting the `kernel_size` and `stride` parameters of a [`torch.nn.Conv2d()`](https://pytorch.org/docs/stable/generated/torch.nn.Conv2d.html) layer equal to the `patch_size`, we can effectively get a layer that splits our image into patches and creates a learnable embedding (referred to as a \"Linear Projection\" in the ViT paper) of each patch.\n",
        "\n",
        "\n",
        "We can recreate these with:\n",
        "* [`torch.nn.Conv2d()`](https://pytorch.org/docs/stable/generated/torch.nn.Conv2d.html) for turning our image into patches of CNN feature maps.\n",
        "* [`torch.nn.Flatten()`](https://pytorch.org/docs/stable/generated/torch.nn.Flatten.html) for flattening the spatial dimensions of the feature map.\n",
        "\n",
        "Let's start with the `torch.nn.Conv2d()` layer.\n",
        "\n",
        "We can replicate the creation of patches by setting the `kernel_size` and `stride` equal to `patch_size`.\n",
        "\n",
        "This means each convolutional kernel will be of size `(patch_size x patch_size)` or if `patch_size=16`, `(16 x 16)` (the equivalent of one whole patch).\n",
        "\n",
        "And each step or `stride` of the convolutional kernel will be `patch_size` pixels long or `16` pixels long (equivalent of stepping to the next patch).\n",
        "\n",
        "We'll set `in_channels=3` for the number of color channels in our image and we'll set `out_channels=768`, the same as the $D$ value in Table 1 for ViT-Base (this is the embedding dimension, each image will be embedded into a learnable vector of size 768)."
      ]
    },
    {
      "cell_type": "markdown",
      "id": "572ae1c5-9488-4882-bdc1-409eef95424e",
      "metadata": {
        "id": "572ae1c5-9488-4882-bdc1-409eef95424e"
      },
      "source": [
        "### 3: Flattening the patch embedding with `torch.nn.Flatten()`\n",
        "\n",
        "We've turned our image into patch embeddings but they're still in 2D format.\n",
        "\n",
        "How do we get them into the desired output shape of the patch embedding layer of the ViT model?\n",
        "\n",
        "* **Desried output (1D sequence of flattened 2D patches):** (196, 768) -> (number of patches, embedding dimension) -> ${N \\times\\left(P^{2} \\cdot C\\right)}$\n",
        "\n",
        "\n",
        "we don't want to flatten the whole tensor, we only want to flatten the \"spatial dimensions of the feature map\".\n",
        "\n",
        "Which in our case is the `feature_map_height` and `feature_map_width` dimensions of `image_out_of_conv`.\n",
        "\n",
        "So how about we create a `torch.nn.Flatten()` layer to only flatten those dimensions, we can use the `start_dim` and `end_dim` parameters to set that up."
      ]
    },
    {
      "cell_type": "markdown",
      "id": "fe802095-e944-4607-b3a7-891ba452372b",
      "metadata": {
        "id": "fe802095-e944-4607-b3a7-891ba452372b"
      },
      "source": [
        "It looks like our `image_out_of_conv_flattened` shape is very close to our desired output shape: \n",
        "    \n",
        "* **Desried output (flattened 2D patches):** (196, 768) -> ${N \\times\\left(P^{2} \\cdot C\\right)}$\n",
        "* **Current shape:** (1, 768, 196)\n",
        "\n",
        "The only difference is our current shape has a batch size and the dimensions are in a different order to the desired output.\n",
        "\n",
        "We can do so with `torch.Tensor.permute()` just like we do when rearranging image tensors to plot them with matplotlib."
      ]
    },
    {
      "cell_type": "markdown",
      "id": "6cc9dae5-5bf2-45b4-8266-cf733868441d",
      "metadata": {
        "id": "6cc9dae5-5bf2-45b4-8266-cf733868441d"
      },
      "source": [
        "Beautiful!\n",
        "\n",
        "We've turned our single 2D image into a 1D learnable embedding vector (or \"Linear Projection of Flattned Patches\" in Figure 1 of the ViT paper)."
      ]
    },
    {
      "cell_type": "markdown",
      "id": "b165987a-8370-471a-a663-711e0c6e60db",
      "metadata": {
        "id": "b165987a-8370-471a-a663-711e0c6e60db"
      },
      "source": [
        "### 4: Create a class called `PatchEmbedding` \n",
        "\n",
        "which subclasses `nn.Module`. So it can be used a PyTorch layer."
      ]
    },
    {
      "cell_type": "code",
      "source": [
        "import torch\n",
        "from torch import nn"
      ],
      "metadata": {
        "id": "LEOEiB5xjt8u"
      },
      "id": "LEOEiB5xjt8u",
      "execution_count": null,
      "outputs": []
    },
    {
      "cell_type": "code",
      "source": [
        "device = \"cuda\" if torch.cuda.is_available() else \"cpu\"\n",
        "device"
      ],
      "metadata": {
        "colab": {
          "base_uri": "https://localhost:8080/",
          "height": 35
        },
        "id": "W7U-4cxVzK-Y",
        "outputId": "4e5a9759-d46b-4dc2-cb6a-c825a38fe9fa"
      },
      "id": "W7U-4cxVzK-Y",
      "execution_count": null,
      "outputs": [
        {
          "output_type": "execute_result",
          "data": {
            "text/plain": [
              "'cuda'"
            ],
            "application/vnd.google.colaboratory.intrinsic+json": {
              "type": "string"
            }
          },
          "metadata": {},
          "execution_count": 2
        }
      ]
    },
    {
      "cell_type": "code",
      "source": [
        "class PatchEmbedding(nn.Module):\n",
        "  \"\"\"Turns a 2D input image into a 1D sequence learnable embedding vector.\n",
        "    \n",
        "    Args:\n",
        "        in_channels (int): Number of color channels for the input images. Defaults to 3.\n",
        "        patch_size (int): Size of patches to convert input image into. Defaults to 16.\n",
        "        embedding_dim (int): Size of embedding to turn image into. Defaults to 768.\n",
        "    \"\"\" \n",
        "  def __init__(self, in_channels, patch_size, embedding_dim):\n",
        "    super().__init__()\n",
        "\n",
        "    # Create a layer to turn an image into patches\n",
        "    self.patcher = nn.Conv2d(in_channels=in_channels,\n",
        "                             out_channels=embedding_dim,\n",
        "                             kernel_size=patch_size,\n",
        "                             stride=patch_size,\n",
        "                             padding=0)\n",
        "    # Create a layer to flatten the patch feature maps into a single dimension, only flatten the feature map dimensions into a single vector\n",
        "    self.flatten = nn.Flatten(start_dim=2, end_dim=3)\n",
        "\n",
        "  def forward(self, x):\n",
        "    x_flattened = self.flatten(self.patcher(x))\n",
        "    return x_flattened.permute(0,2,1)"
      ],
      "metadata": {
        "id": "JjSrdKGfjLoH"
      },
      "id": "JjSrdKGfjLoH",
      "execution_count": null,
      "outputs": []
    },
    {
      "cell_type": "markdown",
      "id": "5270aa24-85b7-4b5a-a799-8e5eeca47f8f",
      "metadata": {
        "id": "5270aa24-85b7-4b5a-a799-8e5eeca47f8f"
      },
      "source": [
        "`PatchEmbedding` layer created!\n",
        "\n",
        "Let's try it out on a single image."
      ]
    },
    {
      "cell_type": "code",
      "source": [
        "# Lets create a sample and see how it goes through the class\n",
        "image = torch.randn(size=(3,224,224))"
      ],
      "metadata": {
        "id": "wfw5DzgdkxSn"
      },
      "id": "wfw5DzgdkxSn",
      "execution_count": null,
      "outputs": []
    },
    {
      "cell_type": "code",
      "source": [
        "patchify = PatchEmbedding(in_channels=3,\n",
        "                          patch_size=16,\n",
        "                          embedding_dim=768)\n",
        "patch_embedded_image = patchify(image.unsqueeze(0)) # add an extra batch dimension on the 0th index, otherwise will error\n",
        "patch_embedded_image.shape"
      ],
      "metadata": {
        "colab": {
          "base_uri": "https://localhost:8080/"
        },
        "id": "jXE0ZDSskiSA",
        "outputId": "37f1054e-6bfb-4913-edc6-397a551e3d78"
      },
      "id": "jXE0ZDSskiSA",
      "execution_count": null,
      "outputs": [
        {
          "output_type": "execute_result",
          "data": {
            "text/plain": [
              "torch.Size([1, 196, 768])"
            ]
          },
          "metadata": {},
          "execution_count": 5
        }
      ]
    },
    {
      "cell_type": "markdown",
      "id": "d5e417fc-70c9-43d4-a294-e7728a24bf42",
      "metadata": {
        "id": "d5e417fc-70c9-43d4-a294-e7728a24bf42"
      },
      "source": [
        "### 5: Let's create a learnable embedding for the class token.\n",
        "\n",
        "To \"prepend a learnable embedding to the sequence of embedded patches\" we need to create a learnable embedding in the shape of the `embedding_dimension` ($D$) and then add it to the `number_of_patches` dimension. \n",
        "\n",
        "Or in pseudocode:\n",
        "\n",
        "```python\n",
        "patch_embedding = [image_patch_1, image_patch_2, image_patch_3...]\n",
        "class_token = learnable_embedding\n",
        "patch_embedding_with_class_token = torch.cat((class_token, patch_embedding), dim=1)\n",
        "```\n",
        "\n",
        "Notice the concatenation (`torch.cat()`) happens on `dim=1` (the `number_of_patches` dimension).\n",
        "\n",
        "\n",
        "To do so, we'll get the batch size and embedding dimension shape and then we'll create a `torch.randn()` tensor in the shape `[batch_size, 1, embedding_dimension]`.\n",
        "\n",
        "And we'll make the tensor learnable by passing it to `nn.Parameter()` with `requires_grad=True`.\n",
        "\n",
        "Now we've got the class token embedding, let's prepend it to our sequence of image patches, `patch_embedded_image`.\n",
        "\n",
        "We can do so using [`torch.cat()`](https://pytorch.org/docs/stable/generated/torch.cat.html) and set `dim=1` (so `class_token`'s `number_of_tokens` dimension is preprended to `patch_embedded_image`'s `number_of_patches` dimension)."
      ]
    },
    {
      "cell_type": "code",
      "source": [
        "# Create the class token embedding as a learnable parameter that shares the same size as the embedding dimension (D)\n",
        "# [batch_size, number_of_tokens, embedding_dimension]\n",
        "class_token = nn.Parameter(data = torch.randn(size=(patch_embedded_image.shape[0],1,patch_embedded_image.shape[-1])),\n",
        "                           requires_grad=True)# make sure the embedding is learnable\n",
        "\n",
        "# Add the class token embedding to the front of the patch embedding\n",
        "patch_embedded_image_with_class_token = torch.cat((class_token, patch_embedded_image), dim=1) # concat on first dimension\n",
        "patch_embedded_image_with_class_token.shape"
      ],
      "metadata": {
        "colab": {
          "base_uri": "https://localhost:8080/"
        },
        "id": "soNsATEarNBs",
        "outputId": "d02e5f0f-f8f7-4998-b320-c3d8f54804c7"
      },
      "id": "soNsATEarNBs",
      "execution_count": null,
      "outputs": [
        {
          "output_type": "execute_result",
          "data": {
            "text/plain": [
              "torch.Size([1, 197, 768])"
            ]
          },
          "metadata": {},
          "execution_count": 6
        }
      ]
    },
    {
      "cell_type": "markdown",
      "id": "48502c61-16b0-4659-b95f-0e830ae93077",
      "metadata": {
        "id": "48502c61-16b0-4659-b95f-0e830ae93077"
      },
      "source": [
        "### 6: Creating the position embedding \n",
        "\n",
        "Now, it's time to create the position embedding.\n",
        "\n",
        "> Position embeddings are added to the patch embeddings to retain positional information. We use **standard learnable 1D position embeddings**, since we have not observed significant performance gains from using more advanced 2D-aware position embeddings (Appendix D.4 in the ViT paper). The resulting sequence of embedding vectors serves as input to the encoder.\n",
        "\n",
        "\n",
        "This positional information can be important when considering what's in an image (without positional information an a flattened sequence could be seen as having no order and thus no patch relates to any other patch). "
      ]
    },
    {
      "cell_type": "code",
      "source": [
        "number_of_patches = 196\n",
        "embedding_dimension = 768\n",
        "# Create the learnable 1D position embedding\n",
        "position_embedding = nn.Parameter(torch.randn(size=(1, number_of_patches+1, embedding_dimension)),\n",
        "                                  requires_grad=True)\n",
        "print(f\"position embedding shape: {position_embedding.shape}\")"
      ],
      "metadata": {
        "colab": {
          "base_uri": "https://localhost:8080/"
        },
        "id": "6IDJ7mEywQZF",
        "outputId": "5ade539c-960c-4c8e-fdc0-dade5d564011"
      },
      "id": "6IDJ7mEywQZF",
      "execution_count": null,
      "outputs": [
        {
          "output_type": "stream",
          "name": "stdout",
          "text": [
            "position embedding shape: torch.Size([1, 197, 768])\n"
          ]
        }
      ]
    },
    {
      "cell_type": "code",
      "source": [
        "# Add the position embedding to the patch and class token embedding\n",
        "patch_and_position_embedding = patch_embedded_image_with_class_token + position_embedding\n",
        "print(patch_and_position_embedding)\n",
        "print(f\"patch and position embedding shape: {patch_and_position_embedding.shape}\")"
      ],
      "metadata": {
        "colab": {
          "base_uri": "https://localhost:8080/"
        },
        "id": "OtHMXPHIx85X",
        "outputId": "b15621d4-70bb-47a1-ac2d-e5c7de07a3d7"
      },
      "id": "OtHMXPHIx85X",
      "execution_count": null,
      "outputs": [
        {
          "output_type": "stream",
          "name": "stdout",
          "text": [
            "tensor([[[-1.6082, -2.3411,  1.1723,  ...,  0.5226, -0.7927, -0.4866],\n",
            "         [ 0.0233, -0.0711,  1.1868,  ..., -0.5499,  0.7363,  1.5880],\n",
            "         [-2.1530, -0.9904,  1.4777,  ...,  0.5498, -0.8582,  2.3165],\n",
            "         ...,\n",
            "         [-1.4119,  0.8610, -0.7236,  ..., -0.9570,  0.3287, -0.4909],\n",
            "         [-1.1944,  0.3089,  1.8117,  ..., -0.7447,  1.6230, -2.2260],\n",
            "         [ 0.7444, -0.6701, -0.9575,  ..., -0.8970,  1.3023,  1.7986]]],\n",
            "       grad_fn=<AddBackward0>)\n",
            "patch and position embedding shape: torch.Size([1, 197, 768])\n"
          ]
        }
      ]
    },
    {
      "cell_type": "markdown",
      "id": "6654c7ed-eb94-408b-b435-9b352c84328b",
      "metadata": {
        "id": "6654c7ed-eb94-408b-b435-9b352c84328b"
      },
      "source": [
        "### 7: Putting it all together: from image to embedding\n",
        "\n",
        "\n",
        "1. Setting the patch size (we'll use `16` as it's widely used throughout the paper and for ViT-Base).\n",
        "2. Getting a single image, printing its shape and storing its height and width.\n",
        "3. Adding a batch dimension to the single image so it's compatible with our `PatchEmbedding` layer.\n",
        "4. Creating a `PatchEmbedding` layer with a `patch_size=16` and `embedding_dim=768` (from Table 1 for ViT-Base).\n",
        "5. Passing the single image through the `PatchEmbedding` layer in 4 to create a sequence of patch embeddings.\n",
        "6. Creating a class token embedding. \n",
        "7. Prepending the class token emebdding to the patch embeddings created in step 5.\n",
        "8. Creating a position embedding.\n",
        "9. Adding the position embedding to the class token and patch embeddings created in step 7.\n"
      ]
    },
    {
      "cell_type": "code",
      "source": [
        "def set_seeds():\n",
        "  torch.manual_seed(42)\n",
        "  torch.cuda.manual_seed(42)"
      ],
      "metadata": {
        "id": "YimnoSpU9lIU"
      },
      "id": "YimnoSpU9lIU",
      "execution_count": null,
      "outputs": []
    },
    {
      "cell_type": "code",
      "execution_count": null,
      "id": "8de90548-e6b0-4123-90ca-a23b0fab52a9",
      "metadata": {
        "id": "8de90548-e6b0-4123-90ca-a23b0fab52a9",
        "outputId": "c6072cd9-f29b-4853-f932-70e927d309e4",
        "colab": {
          "base_uri": "https://localhost:8080/"
        }
      },
      "outputs": [
        {
          "output_type": "stream",
          "name": "stdout",
          "text": [
            "Image tensor shape: torch.Size([3, 224, 224])\n",
            "Input image with batch dimension shape: torch.Size([1, 3, 224, 224])\n",
            "Patching embedding shape: torch.Size([1, 196, 768])\n",
            "Class token embedding shape: torch.Size([1, 1, 768])\n",
            "Patch embedding with class token shape: torch.Size([1, 197, 768])\n",
            "Patch and position embedding shape: torch.Size([1, 197, 768])\n"
          ]
        }
      ],
      "source": [
        "set_seeds()\n",
        "\n",
        "# 1. Set patch size\n",
        "patch_size = 16\n",
        "\n",
        "# 2. Print shape of original image tensor and get the image dimensions\n",
        "print(f\"Image tensor shape: {image.shape}\")\n",
        "height, width = image.shape[1], image.shape[2]\n",
        "\n",
        "# 3. Get image tensor and add batch dimension\n",
        "x = image.unsqueeze(0)\n",
        "print(f\"Input image with batch dimension shape: {x.shape}\")\n",
        "\n",
        "# 4. Create patch embedding layer\n",
        "patch_embedding_layer = PatchEmbedding(in_channels=3,\n",
        "                                       patch_size=patch_size,\n",
        "                                       embedding_dim=768)\n",
        "\n",
        "# 5. Pass image through patch embedding layer\n",
        "patch_embedding = patch_embedding_layer(x)\n",
        "print(f\"Patching embedding shape: {patch_embedding.shape}\")\n",
        "\n",
        "# 6. Create a class token embedding\n",
        "batch_size = patch_embedding.shape[0]\n",
        "embedding_dimension = patch_embedding.shape[-1]\n",
        "class_token = nn.Parameter(torch.randn(batch_size, 1, embedding_dimension),\n",
        "                           requires_grad=True) # make sure it's learnable\n",
        "print(f\"Class token embedding shape: {class_token.shape}\")\n",
        "\n",
        "# 7. Prepend class token embedding to patch embedding\n",
        "patch_embedding_class_token = torch.cat((class_token, patch_embedding), dim=1)\n",
        "print(f\"Patch embedding with class token shape: {patch_embedding_class_token.shape}\")\n",
        "\n",
        "# 8. Create position embedding\n",
        "number_of_patches = int((height * width) / patch_size**2)\n",
        "position_embedding = nn.Parameter(torch.randn(1, number_of_patches+1, embedding_dimension),\n",
        "                                  requires_grad=True) # make sure it's learnable\n",
        "\n",
        "# 9. Add position embedding to patch embedding with class token\n",
        "patch_and_position_embedding = patch_embedding_class_token + position_embedding\n",
        "print(f\"Patch and position embedding shape: {patch_and_position_embedding.shape}\")"
      ]
    },
    {
      "cell_type": "markdown",
      "id": "02f725de-64d1-41d2-a9d6-374cf6d4f589",
      "metadata": {
        "id": "02f725de-64d1-41d2-a9d6-374cf6d4f589"
      },
      "source": [
        "## Multi-Head Self-Attention (MSA)\n",
        "\n",
        "We've got our input data patchified and embedded, now let's move onto the next part of the ViT architecture.\n",
        "\n",
        "Many layers you find in research papers are already implemented in modern deep learning frameworks such as PyTorch.\n",
        "\n",
        "In saying this, to replicate these layers and residual connection with PyTorch code we can use:\n",
        "* **Multi-Head Self Attention (MSA)** - [`torch.nn.MultiheadAttention()`](https://pytorch.org/docs/stable/generated/torch.nn.MultiheadAttention.html). \n",
        "* **Norm (LN or LayerNorm)** - [`torch.nn.LayerNorm()`](https://pytorch.org/docs/stable/generated/torch.nn.LayerNorm.html).\n",
        "* **Residual connection** - add the input to output. "
      ]
    },
    {
      "cell_type": "markdown",
      "id": "97430d7a-a69b-423c-be2b-ac16e7f9f83f",
      "metadata": {
        "id": "97430d7a-a69b-423c-be2b-ac16e7f9f83f"
      },
      "source": [
        "### 1: The LayerNorm (LN) layer\n",
        "\n",
        "[Layer Normalization](https://paperswithcode.com/method/layer-normalization) (`torch.nn.LayerNorm()` or Norm or LayerNorm or LN) normalizes an input over the last dimension.\n",
        "\n",
        "\n",
        "PyTorch's `torch.nn.LayerNorm()`'s main parameter is `normalized_shape` which we can set to be equal to the dimension size we'd like to noramlize over (in our case it'll be $D$ or `768` for ViT-Base).\n",
        "\n",
        "What does it do?\n",
        "\n",
        "Layer Normalization helps improve training time and model generalization (ability to adapt to unseen data).\n",
        "\n",
        "I like to think of any kind of normalization as \"getting the data into a similar format\" or \"getting data samples into a similar distribution\".\n",
        "\n",
        "Neural networks can optimize over data samples with similar distributions (similar mean and standard-deviations) easier than those with varying distributions. "
      ]
    },
    {
      "cell_type": "markdown",
      "id": "cf09f6d0-2480-4577-a694-1171898e1777",
      "metadata": {
        "id": "cf09f6d0-2480-4577-a694-1171898e1777"
      },
      "source": [
        "### 2: The Multi-Head Self Attention (MSA) layer \n",
        "\n",
        "The power of the self-attention and multi-head attention (self-attention applied multiple times) were revealed in the form of the original Transformer architecture introduced in the [*Attention is all you need*](https://arxiv.org/abs/1706.03762) research paper.\n",
        "\n",
        "Originally designed for text inputs, the original self-attention mechanism takes a sequence of words and then calculates which word should pay more \"attention\" to another word.\n",
        "\n",
        "In other words, in the sentence \"the dog jumped over the fence\", perhaps the word \"dog\" relates strongly to \"jumped\" and \"fence\".\n",
        "\n",
        "\n",
        "Since our input is a sequence of image patches now, self-attention and in turn multi-head attention will calculate which patch of an image is most related to another patch, eventually forming a learned representation of an image. \n",
        "\n",
        "But what's most important is that the layer does this on it's own given the data (we don't tell it what patterns to learn).\n",
        "\n",
        "\n",
        "\n",
        "The figure of the ViT architecture at the beginning of notebook above indicates the triple embedding input to the MSA layer.\n",
        "\n",
        "This is known as **query, key, value** input or **qkv** for short which is fundamental to the self-attention mechanism.\n",
        "\n",
        "In our case, the triple embedding input will be three versions of the output of the Norm layer, one for query, key and value.\n",
        "\n",
        "Or three versions of our layer-normalized image patch and position embeddings.\n",
        "\n",
        "We can implement the MSA layer in PyTorch with `torch.nn.MultiheadAttention()` with the parameters:\n",
        "* `embed_dim` - the embedding dimension from Table 1 (Hidden size $D$).\n",
        "* `num_heads` - how many attention heads to use (this is where the term \"multihead\" comes from), this value is also in Table 1 (Heads).\n",
        "* `dropout` - whether or not to apply dropout to the attention layer (according to Appendix B.1, dropout isn't used after the qkv-projections). \n",
        "* `batch_first` - our batch dimension comes first."
      ]
    },
    {
      "cell_type": "markdown",
      "id": "b1a012fa-9bf6-4cf2-bbd0-30ed692f9d74",
      "metadata": {
        "id": "b1a012fa-9bf6-4cf2-bbd0-30ed692f9d74"
      },
      "source": [
        "1. Create a class called `MultiheadSelfAttentionBlock` that inherits from `torch.nn.Module`.\n",
        "2. Initialize the class with hyperparameters from Table 1 of the ViT paper for the ViT-Base model.\n",
        "3. Create a layer normalization (LN) layer with `torch.nn.LayerNorm()` with the `normalized_shape` parameter the same as our embedding dimension ($D$ from Table 1).\n",
        "4. Create a multi-head attention (MSA) layer with the appropriate `embed_dim`, `num_heads`, `dropout` and `batch_first` parameters.\n",
        "5. Create a `forward()` method for our class passing the in the inputs through the LN layer and MSA layer."
      ]
    },
    {
      "cell_type": "code",
      "execution_count": null,
      "id": "b76ae98c",
      "metadata": {
        "id": "b76ae98c"
      },
      "outputs": [],
      "source": [
        "class MultiheadSelfAttentionBlock(nn.Module):\n",
        "    \"\"\"Creates a multi-head self-attention block (\"MSA block\" for short).\n",
        "    \"\"\"\n",
        "    def __init__(self,\n",
        "                 embedding_dim, # Hidden size D from Table 1 for ViT-Base\n",
        "                 num_heads, # Heads from Table 1 for ViT-Base\n",
        "                 attn_dropout): # doesn't look like the paper uses any dropout in MSABlocks\n",
        "        super().__init__()\n",
        "        \n",
        "        self.layer_norm = nn.LayerNorm(normalized_shape=embedding_dim)\n",
        "        \n",
        "        self.multihead_attn = nn.MultiheadAttention(embed_dim=embedding_dim,\n",
        "                                                    num_heads=num_heads,\n",
        "                                                    dropout=attn_dropout,\n",
        "                                                    batch_first=True)\n",
        "        \n",
        "    def forward(self, x):\n",
        "        x = self.layer_norm(x)\n",
        "        attn_output, attn_output_weight = self.multihead_attn(query=x, # query embeddings \n",
        "                                             key=x, # key embeddings\n",
        "                                             value=x, # value embeddings\n",
        "                                             need_weights=False)\n",
        "        return attn_output"
      ]
    },
    {
      "cell_type": "code",
      "execution_count": null,
      "id": "ceb1dfc0-40ad-4cee-bc54-e9a5cec56895",
      "metadata": {
        "id": "ceb1dfc0-40ad-4cee-bc54-e9a5cec56895",
        "outputId": "0b91e845-4e67-46b1-a2ec-32ad270e6c1d",
        "colab": {
          "base_uri": "https://localhost:8080/"
        }
      },
      "outputs": [
        {
          "output_type": "stream",
          "name": "stdout",
          "text": [
            "Input shape of MSA block: torch.Size([1, 197, 768])\n",
            "Output shape MSA block: torch.Size([1, 197, 768])\n"
          ]
        }
      ],
      "source": [
        "# Create an instance of MSABlock\n",
        "multihead_self_attention_block = MultiheadSelfAttentionBlock(embedding_dim=768,\n",
        "                                                             num_heads=12,\n",
        "                                                             attn_dropout=0)\n",
        "\n",
        "# Pass patch and position image embedding through MSABlock\n",
        "patched_image_through_msa_block = multihead_self_attention_block(patch_and_position_embedding)\n",
        "print(f\"Input shape of MSA block: {patch_and_position_embedding.shape}\")\n",
        "print(f\"Output shape MSA block: {patched_image_through_msa_block.shape}\")"
      ]
    },
    {
      "cell_type": "markdown",
      "id": "589be777-e2af-48d2-9ba7-4cd922aa1528",
      "metadata": {
        "tags": [],
        "id": "589be777-e2af-48d2-9ba7-4cd922aa1528"
      },
      "source": [
        "## The MLP block\n",
        "\n",
        "The term [MLP](https://en.wikipedia.org/wiki/Multilayer_perceptron) is quite broad as it can refer to almost any combination of *multiple* layers (hence the \"multi\" in multilayer perceptron).\n",
        "\n",
        "But it generally follows the pattern of: \n",
        "\n",
        "`linear layer -> non-linear layer -> linear layer -> non-linear layer`\n",
        "\n",
        "In the the case of the ViT paper, the MLP contains two layers with a GELU non-linearity.\n",
        "\n",
        "Where \"two layers\" refers to linear layers ([`torch.nn.Linear()`](https://pytorch.org/docs/stable/generated/torch.nn.Linear.html) in PyTorch) and \"GELU non-linearity\" is the GELU  (Gaussian Error Linear Units) non-linear activation function ([`torch.nn.GELU()`](https://pytorch.org/docs/stable/generated/torch.nn.GELU.html) in PyTorch).\n",
        "\n",
        "> **Note:** A linear layer (`torch.nn.Linear()`) can sometimes also be referred to as a \"dense layer\" or \"feedforward layer\". \n",
        "\n",
        "> Dropout is applied **after every dense layer except for the the qkv-projections and directly after adding positional- to patch embeddings.**\n",
        "\n",
        "This means that every linear layer (or dense layer) in the MLP block has a dropout layer ([`torch.nn.Dropout()`](https://pytorch.org/docs/stable/generated/torch.nn.Dropout.html) in PyTorch).\n",
        "\n",
        "The value of dropout based on the paper (for ViT-Base, `dropout=0.1`).\n",
        "\n",
        "Knowing this, the structure of our MLP block will be:\n",
        "\n",
        "`layer norm -> linear layer -> non-linear layer -> dropout -> linear layer -> dropout`\n"
      ]
    },
    {
      "cell_type": "code",
      "execution_count": null,
      "id": "68d9dbfe",
      "metadata": {
        "id": "68d9dbfe"
      },
      "outputs": [],
      "source": [
        "class MLPBlock(nn.Module):\n",
        "    def __init__(self,\n",
        "                 embedding_dim, # Hidden Size D from Table 1 for ViT-Base\n",
        "                 mlp_size, # MLP size from Table 1 for ViT-Base\n",
        "                 dropout):\n",
        "        super().__init__()\n",
        "        \n",
        "        self.layer_norm = nn.LayerNorm(normalized_shape=embedding_dim)\n",
        "        \n",
        "        self.mlp = nn.Sequential(\n",
        "            nn.Linear(in_features=embedding_dim,\n",
        "                      out_features=mlp_size),\n",
        "            nn.GELU(), # \"The MLP contains two layers with a GELU non-linearity.\"\n",
        "            nn.Dropout(p=dropout),\n",
        "            nn.Linear(in_features=mlp_size, # needs to take same in_features as out_features of layer above\n",
        "                      out_features=embedding_dim), # take back to embedding_dim\n",
        "            nn.Dropout(p=dropout) # \"Dropout, when used, is applied after every dense layer..\"\n",
        "        )\n",
        "    \n",
        "    def forward(self, x):\n",
        "      return self.mlp(self.layer_norm(x))"
      ]
    },
    {
      "cell_type": "code",
      "execution_count": null,
      "id": "442fb987",
      "metadata": {
        "id": "442fb987",
        "outputId": "0f9b3511-10ca-4046-8f1b-a8394dc6a2e8",
        "colab": {
          "base_uri": "https://localhost:8080/"
        }
      },
      "outputs": [
        {
          "output_type": "stream",
          "name": "stdout",
          "text": [
            "Input shape of MLP block: torch.Size([1, 197, 768])\n",
            "Output shape MLP block: torch.Size([1, 197, 768])\n"
          ]
        }
      ],
      "source": [
        "# Create an instance of MLPBlock\n",
        "mlp_block = MLPBlock(embedding_dim=768, # from Table 1 \n",
        "                     mlp_size=3072, # from Table 1\n",
        "                     dropout=0.1) # from Table 3\n",
        "\n",
        "# Pass output of MSABlock through MLPBlock\n",
        "patched_image_through_mlp_block = mlp_block(patched_image_through_msa_block)\n",
        "print(f\"Input shape of MLP block: {patched_image_through_mlp_block.shape}\")\n",
        "print(f\"Output shape MLP block: {patched_image_through_mlp_block.shape}\")"
      ]
    },
    {
      "cell_type": "markdown",
      "id": "6259bdc6-525a-4bd6-89e8-c2dcdab09d0d",
      "metadata": {
        "id": "6259bdc6-525a-4bd6-89e8-c2dcdab09d0d"
      },
      "source": [
        "## Create the Transformer Encoder \n",
        "\n",
        "### All by ourselves from scratch\n",
        "\n",
        "In deep learning, an [\"encoder\" or \"auto encoder\"](https://paperswithcode.com/method/autoencoder) generally refers to a stack of layers that \"encodes\" an input (turns it into some form of numerical representation).\n",
        "\n",
        "In our case, the Transformer Encoder will encode our patched image embedding into a learned representation using a series of alternating layers of MSA blocks and MLP blocks:\n",
        "\n",
        "> The Transformer encoder (Vaswani et al., 2017) consists of alternating layers of multiheaded selfattention (MSA) and MLP blocks. **Layernorm (LN) is applied before every block**, and **residual connections after every block** (Wang et al., 2019; Baevski & Auli, 2019).\n",
        "\n",
        "what about the residual connections?\n",
        "\n",
        "[Residual connections](https://paperswithcode.com/method/residual-connection) (also called skip connections), were first introduced in the paper [*Deep Residual Learning for Image Recognition*](https://arxiv.org/abs/1512.03385v1) and are achieved by adding a layer(s) input to its subsequent output.\n",
        "\n",
        "In the case of the ViT architecture, the residual connection means the input of the MSA block is added back to the output of the MSA block before it passes to the MLP block and the same thing happens with the MLP block before it goes onto the next Transformer Encoder block.\n",
        "\n",
        "\n",
        "`x_input -> MSA_block -> [MSA_block_output + x_input] -> MLP_block -> [MLP_block_output + MSA_block_output + x_input] -> ...`\n",
        "\n",
        "What is the point of this?\n",
        "\n",
        "One of the main ideas behind residual connections is that they prevent weight values and gradient updates from getting too small and thus allow deeper networks and in turn allow deeper representations to be learned.\n",
        "\n",
        "> **Note:** The iconic computer vision architecture \"ResNet\" is named so because of the introduction of *res*idual connections. You can find many pretrained versions of ResNet architectures in [`torchvision.models`](https://pytorch.org/vision/stable/models.html). "
      ]
    },
    {
      "cell_type": "code",
      "source": [
        "class TransformerEncoderBlock(nn.Module):\n",
        "  def __init__(self, embedding_dim, num_heads, attn_dropout, mlp_size, mlp_dropout):\n",
        "    super().__init__()\n",
        "\n",
        "    self.msa_block = MultiheadSelfAttentionBlock(embedding_dim=embedding_dim,\n",
        "                                                 num_heads=num_heads,\n",
        "                                                 attn_dropout = attn_dropout)\n",
        "    self.mlp_block = MLPBlock(embedding_dim=embedding_dim,\n",
        "                              mlp_size=mlp_size,\n",
        "                              dropout=mlp_dropout)\n",
        "    \n",
        "  def forward(self, x):\n",
        "    # Create residual connection for MSA block (add the input to the output)\n",
        "    x = x + self.msa_block(x)\n",
        "    # Create residual connection for MLP block (add the input to the output)\n",
        "    x = x + self.mlp_block(x)\n",
        "    \n",
        "    return x"
      ],
      "metadata": {
        "id": "DF6qc8cGa_I-"
      },
      "id": "DF6qc8cGa_I-",
      "execution_count": null,
      "outputs": []
    },
    {
      "cell_type": "markdown",
      "id": "b9199182-d14e-4c54-a391-7a53b6c78a44",
      "metadata": {
        "id": "b9199182-d14e-4c54-a391-7a53b6c78a44"
      },
      "source": [
        "For ViT-Base, we'll be stacking together 12 of these Transformer Encoder blocks to form the backbone of our architecture.\n",
        "\n",
        "Let's get a `torchinfo.summary()` of passing an input of shape `(1, 197, 768) -> (batch_size, num_patches, embedding_dimension)` to our Transformer Encoder block."
      ]
    },
    {
      "cell_type": "code",
      "source": [
        "!pip install torchinfo\n",
        "from torchinfo import summary"
      ],
      "metadata": {
        "colab": {
          "base_uri": "https://localhost:8080/"
        },
        "id": "n64HuFR8cwfY",
        "outputId": "fc6f5db1-1cf6-476c-b439-f95a34e3fcae"
      },
      "id": "n64HuFR8cwfY",
      "execution_count": null,
      "outputs": [
        {
          "output_type": "stream",
          "name": "stdout",
          "text": [
            "Looking in indexes: https://pypi.org/simple, https://us-python.pkg.dev/colab-wheels/public/simple/\n",
            "Collecting torchinfo\n",
            "  Downloading torchinfo-1.7.1-py3-none-any.whl (22 kB)\n",
            "Installing collected packages: torchinfo\n",
            "Successfully installed torchinfo-1.7.1\n"
          ]
        }
      ]
    },
    {
      "cell_type": "code",
      "execution_count": null,
      "id": "a63be4de-ffff-4fa1-97b8-103012797d36",
      "metadata": {
        "id": "a63be4de-ffff-4fa1-97b8-103012797d36",
        "colab": {
          "base_uri": "https://localhost:8080/"
        },
        "outputId": "39cac077-9351-461e-d4a6-d1adaa446585"
      },
      "outputs": [
        {
          "output_type": "execute_result",
          "data": {
            "text/plain": [
              "==================================================================================================================================\n",
              "Layer (type (var_name))                            Input Shape          Output Shape         Param #              Trainable\n",
              "==================================================================================================================================\n",
              "TransformerEncoderBlock (TransformerEncoderBlock)  [1, 197, 768]        [1, 197, 768]        --                   True\n",
              "├─MultiheadSelfAttentionBlock (msa_block)          [1, 197, 768]        [1, 197, 768]        --                   True\n",
              "│    └─LayerNorm (layer_norm)                      [1, 197, 768]        [1, 197, 768]        1,536                True\n",
              "│    └─MultiheadAttention (multihead_attn)         --                   [1, 197, 768]        2,362,368            True\n",
              "├─MLPBlock (mlp_block)                             [1, 197, 768]        [1, 197, 768]        --                   True\n",
              "│    └─LayerNorm (layer_norm)                      [1, 197, 768]        [1, 197, 768]        1,536                True\n",
              "│    └─Sequential (mlp)                            [1, 197, 768]        [1, 197, 768]        --                   True\n",
              "│    │    └─Linear (0)                             [1, 197, 768]        [1, 197, 3072]       2,362,368            True\n",
              "│    │    └─GELU (1)                               [1, 197, 3072]       [1, 197, 3072]       --                   --\n",
              "│    │    └─Dropout (2)                            [1, 197, 3072]       [1, 197, 3072]       --                   --\n",
              "│    │    └─Linear (3)                             [1, 197, 3072]       [1, 197, 768]        2,360,064            True\n",
              "│    │    └─Dropout (4)                            [1, 197, 768]        [1, 197, 768]        --                   --\n",
              "==================================================================================================================================\n",
              "Total params: 7,087,872\n",
              "Trainable params: 7,087,872\n",
              "Non-trainable params: 0\n",
              "Total mult-adds (M): 4.73\n",
              "==================================================================================================================================\n",
              "Input size (MB): 0.61\n",
              "Forward/backward pass size (MB): 8.47\n",
              "Params size (MB): 18.90\n",
              "Estimated Total Size (MB): 27.98\n",
              "=================================================================================================================================="
            ]
          },
          "metadata": {},
          "execution_count": 17
        }
      ],
      "source": [
        "# Create an instance of TransformerEncoderBlock\n",
        "transformer_encoder_block = TransformerEncoderBlock(768,12,0,3072,0.1)\n",
        "\n",
        "# # Print an input and output summary of our Transformer Encoder (uncomment for full output)\n",
        "summary(model=transformer_encoder_block,\n",
        "        input_size=(1, 197, 768), # (batch_size, num_patches, embedding_dimension)\n",
        "        col_names=[\"input_size\", \"output_size\", \"num_params\", \"trainable\"],\n",
        "        col_width=20,\n",
        "        row_settings=[\"var_names\"])"
      ]
    },
    {
      "cell_type": "markdown",
      "id": "fdf8796b-e3f5-4a23-912b-d1d7264287c3",
      "metadata": {
        "id": "fdf8796b-e3f5-4a23-912b-d1d7264287c3"
      },
      "source": [
        "> **Note:** Just because our input to the Transformer Encoder block has the same shape at the output of the block doesn't mean the values weren't manipulated, the whole goal of the Transformer Encoder block (and stacking them together) is to learn a deep representation of the input using the various layers in between."
      ]
    },
    {
      "cell_type": "markdown",
      "id": "8219d44e-0e17-4404-ac0e-45886bfda71e",
      "metadata": {
        "tags": [],
        "id": "8219d44e-0e17-4404-ac0e-45886bfda71e"
      },
      "source": [
        "### Creating a Transformer Encoder with PyTorch's Transformer layers \n",
        "\n",
        "So far we've built the components of and the Transformer Encoder layer itself ourselves.\n",
        "\n",
        "But because of their rise in popularity and effectiveness, PyTorch now has in-built [Transformer layers as part of `torch.nn`](https://pytorch.org/docs/stable/nn.html#transformer-layers). \n",
        "\n",
        "For example, we can recreate the `TransformerEncoderBlock` we just created using [`torch.nn.TransformerEncoderLayer()`](https://pytorch.org/docs/stable/generated/torch.nn.TransformerEncoderLayer.html#torch.nn.TransformerEncoderLayer) and setting the same hyperparameters as above.\n",
        "\n",
        " > Finally, since the ViT architecture uses several Transformer Layers stacked on top of each for the full architecture (Table 1 shows 12 Layers in the case of ViT-Base), you can do this with [`torch.nn.TransformerEncoder(encoder_layer, num_layers)`](https://pytorch.org/docs/stable/generated/torch.nn.TransformerEncoder.html#torch.nn.TransformerEncoder) where:\n",
        "* `encoder_layer` - The target Transformer Encoder layer created with `torch.nn.TransformerEncoderLayer()`.\n",
        "* `num_layers` - The number of Transformer Encoder layers to stack together."
      ]
    },
    {
      "cell_type": "code",
      "source": [
        "torch_transformer_encoder_layer = nn.TransformerEncoderLayer(d_model=768, # Hidden size D from Table 1 for ViT-Base\n",
        "                                                             nhead=12, # Heads from Table 1 for ViT-Base\n",
        "                                                             dim_feedforward=3072, # MLP size from Table 1 for ViT-Base\n",
        "                                                             dropout=0.1, # Amount of dropout for dense layers from Table 3 for ViT-Base\n",
        "                                                             activation=\"gelu\", # GELU non-linear activation\n",
        "                                                             batch_first=True, # Do our batches come first?\n",
        "                                                             norm_first=True) # Normalize first or after MSA/MLP layers?"
      ],
      "metadata": {
        "id": "-RNKKGRlxk-R"
      },
      "id": "-RNKKGRlxk-R",
      "execution_count": null,
      "outputs": []
    },
    {
      "cell_type": "code",
      "source": [
        "torch_transformer_encoder = nn.TransformerEncoder(encoder_layer=torch_transformer_encoder_layer,\n",
        "                                                  num_layers=12) "
      ],
      "metadata": {
        "id": "ulaqna7Ue-KO"
      },
      "id": "ulaqna7Ue-KO",
      "execution_count": null,
      "outputs": []
    },
    {
      "cell_type": "code",
      "execution_count": null,
      "id": "aa4fdb79-d2e8-4b6b-8aec-e9c712089c67",
      "metadata": {
        "id": "aa4fdb79-d2e8-4b6b-8aec-e9c712089c67",
        "colab": {
          "base_uri": "https://localhost:8080/"
        },
        "outputId": "69dd8f1c-8ff1-460d-8674-36319af7d043"
      },
      "outputs": [
        {
          "output_type": "execute_result",
          "data": {
            "text/plain": [
              "==================================================================================================================================\n",
              "Layer (type (var_name))                            Input Shape          Output Shape         Param #              Trainable\n",
              "==================================================================================================================================\n",
              "TransformerEncoderLayer (TransformerEncoderLayer)  [1, 197, 768]        [1, 197, 768]        --                   True\n",
              "├─LayerNorm (norm1)                                [1, 197, 768]        [1, 197, 768]        1,536                True\n",
              "├─MultiheadAttention (self_attn)                   [1, 197, 768]        [1, 197, 768]        2,362,368            True\n",
              "├─Dropout (dropout1)                               [1, 197, 768]        [1, 197, 768]        --                   --\n",
              "├─LayerNorm (norm2)                                [1, 197, 768]        [1, 197, 768]        1,536                True\n",
              "├─Linear (linear1)                                 [1, 197, 768]        [1, 197, 3072]       2,362,368            True\n",
              "├─Dropout (dropout)                                [1, 197, 3072]       [1, 197, 3072]       --                   --\n",
              "├─Linear (linear2)                                 [1, 197, 3072]       [1, 197, 768]        2,360,064            True\n",
              "├─Dropout (dropout2)                               [1, 197, 768]        [1, 197, 768]        --                   --\n",
              "==================================================================================================================================\n",
              "Total params: 7,087,872\n",
              "Trainable params: 7,087,872\n",
              "Non-trainable params: 0\n",
              "Total mult-adds (M): 4.73\n",
              "==================================================================================================================================\n",
              "Input size (MB): 0.61\n",
              "Forward/backward pass size (MB): 8.47\n",
              "Params size (MB): 18.90\n",
              "Estimated Total Size (MB): 27.98\n",
              "=================================================================================================================================="
            ]
          },
          "metadata": {},
          "execution_count": 20
        }
      ],
      "source": [
        "# # Get the output of PyTorch's version of the Transformer Encoder (uncomment for full output)\n",
        "summary(model=torch_transformer_encoder_layer,\n",
        "        input_size=(1, 197, 768), # (batch_size, num_patches, embedding_dimension)\n",
        "        col_names=[\"input_size\", \"output_size\", \"num_params\", \"trainable\"],\n",
        "        col_width=20,\n",
        "        row_settings=[\"var_names\"])"
      ]
    },
    {
      "cell_type": "markdown",
      "id": "94f9041c-a0af-4fbe-8969-a2bde8637821",
      "metadata": {
        "id": "94f9041c-a0af-4fbe-8969-a2bde8637821"
      },
      "source": [
        "## Putting everything together to create ViT\n",
        "\n",
        "We're going to combine all of the blocks we've created to replicate the full ViT architecture.\n",
        "\n"
      ]
    },
    {
      "cell_type": "code",
      "execution_count": null,
      "id": "2df890d5",
      "metadata": {
        "id": "2df890d5"
      },
      "outputs": [],
      "source": [
        "class ViT(nn.Module):\n",
        "    def __init__(self,\n",
        "                 img_size:int=224, # Training resolution\n",
        "                 in_channels:int=3, # Number of channels in input image\n",
        "                 patch_size:int=16, # Patch size\n",
        "                 num_transformer_layers:int=12, # Layers from Table 1 for ViT-Base\n",
        "                 embedding_dim:int=768, # Hidden size D from Table 1 for ViT-Base\n",
        "                 mlp_size:int=3072, # MLP size from Table 1 for ViT-Base\n",
        "                 num_heads:int=12, # Heads from Table 1 for ViT-Base\n",
        "                 attn_dropout:int=0, # Dropout for attention projection\n",
        "                 mlp_dropout:int=0.1, # Dropout for dense/MLP layers \n",
        "                 embedding_dropout:int=0.1, # Dropout for patch and position embeddings\n",
        "                 num_classes:int=1000): # Default for ImageNet but can customize this\n",
        "        super().__init__() # don't forget the super().__init__()!\n",
        "        \n",
        "        # Make the image size is divisble by the patch size \n",
        "        assert img_size % patch_size == 0, f\"Image size must be divisible by patch size, image size: {img_size}, patch size: {patch_size}.\"\n",
        "        \n",
        "        # Calculate number of patches (height * width/patch^2)\n",
        "        self.num_patches = (img_size * img_size) // patch_size**2\n",
        "\n",
        "        # Create learnable class embedding (needs to go at front of sequence of patch embeddings)\n",
        "        self.class_embedding = nn.Parameter(data=torch.randn(1, 1, embedding_dim),\n",
        "                                            requires_grad=True)\n",
        "        \n",
        "        # Create learnable position embedding\n",
        "        self.position_embedding = nn.Parameter(data=torch.randn(1, self.num_patches+1, embedding_dim),\n",
        "                                               requires_grad=True)\n",
        "                \n",
        "        # Create embedding dropout value\n",
        "        self.embedding_dropout = nn.Dropout(p=embedding_dropout)\n",
        "        \n",
        "        # Create patch embedding layer\n",
        "        self.patch_embedding = PatchEmbedding(in_channels=in_channels,\n",
        "                                              patch_size=patch_size,\n",
        "                                              embedding_dim=embedding_dim)\n",
        "        \n",
        "        # Create Transformer Encoder blocks \n",
        "        self.transformer_encoder = nn.TransformerEncoder(encoder_layer=torch_transformer_encoder_layer,\n",
        "                                                  num_layers=12)\n",
        "       \n",
        "        # Create classifier head\n",
        "        self.classifier = nn.Sequential(\n",
        "            nn.LayerNorm(normalized_shape=embedding_dim),\n",
        "            nn.Linear(in_features=embedding_dim, \n",
        "                      out_features=num_classes)\n",
        "        )\n",
        "    \n",
        "\n",
        "    def forward(self, x):\n",
        "        \n",
        "        # Get batch size\n",
        "        batch_size = x.shape[0]\n",
        "        # so far we set the batch size equal to 1. but in reality, it can be whatever; thus it is important to expand input dimension over batch size.\n",
        "        # Create class token embedding and expand it to match the batch size\n",
        "        class_token = self.class_embedding.expand(batch_size, -1, -1) # \"-1\" means to infer the dimension (try this line on its own)\n",
        "\n",
        "        # Create patch embedding\n",
        "        x = self.patch_embedding(x)\n",
        "\n",
        "        # Concat class embedding and patch embedding\n",
        "        x = torch.cat((class_token, x), dim=1)\n",
        "\n",
        "        # Add position embedding to patch embedding\n",
        "        x = self.position_embedding + x\n",
        "\n",
        "        # Run embedding dropout \n",
        "        x = self.embedding_dropout(x)\n",
        "\n",
        "        # Pass patch, position and class embedding through transformer encoder layers\n",
        "        x = self.transformer_encoder(x)\n",
        "\n",
        "        # Put 0 index logit through classifier\n",
        "        x = self.classifier(x[:,0]) # run on each sample in a batch at 0 index\n",
        "\n",
        "        return x       "
      ]
    },
    {
      "cell_type": "code",
      "execution_count": null,
      "id": "7dc9f8ec",
      "metadata": {
        "id": "7dc9f8ec",
        "outputId": "42701684-aaad-4327-88b8-07a9abf32956",
        "colab": {
          "base_uri": "https://localhost:8080/"
        }
      },
      "outputs": [
        {
          "output_type": "stream",
          "name": "stdout",
          "text": [
            "Shape of class token embedding single: torch.Size([1, 1, 768])\n",
            "Shape of class token embedding expanded: torch.Size([32, 1, 768])\n"
          ]
        }
      ],
      "source": [
        "# Example of creating the class embedding and expanding over a batch dimension\n",
        "batch_size = 32\n",
        "class_token_embedding_single = nn.Parameter(data=torch.randn(1, 1, 768)) # create a single learnable class token\n",
        "class_token_embedding_expanded = class_token_embedding_single.expand(batch_size, -1, -1) # expand the single learnable class token across the batch dimension, \"-1\" means to \"infer the dimension\"\n",
        "\n",
        "# Print out the change in shapes\n",
        "print(f\"Shape of class token embedding single: {class_token_embedding_single.shape}\") \n",
        "print(f\"Shape of class token embedding expanded: {class_token_embedding_expanded.shape}\")"
      ]
    },
    {
      "cell_type": "markdown",
      "id": "3f07ff70-e09c-4d7c-a119-b2185f46e35a",
      "metadata": {
        "id": "3f07ff70-e09c-4d7c-a119-b2185f46e35a"
      },
      "source": [
        "Notice how the first dimension gets expanded to the batch size and the other dimensions stay the same (because they're inferred by the \"`-1`\" dimensions in `.expand(batch_size, -1, -1)`).\n"
      ]
    },
    {
      "cell_type": "code",
      "execution_count": null,
      "id": "f86190a3-ed1f-4ab3-881c-4eecea996912",
      "metadata": {
        "id": "f86190a3-ed1f-4ab3-881c-4eecea996912"
      },
      "outputs": [],
      "source": [
        "set_seeds()\n",
        "\n",
        "# Create a random tensor with same shape as a single image\n",
        "random_image_tensor = torch.randn(1, 3, 224, 224) # (batch_size, color_channels, height, width)\n",
        "\n",
        "# Create an instance of ViT with the number of classes we're working with (pizza, steak, sushi)\n",
        "vit = ViT(224,3,16,12,768,3072,12,0,0.1,0.1,3)\n",
        "\n",
        "# Pass the random image tensor to our ViT instance\n",
        "# vit(random_image_tensor)"
      ]
    },
    {
      "cell_type": "markdown",
      "id": "e210b803-f6a4-47e9-af63-dfa92f0eadbe",
      "metadata": {
        "id": "e210b803-f6a4-47e9-af63-dfa92f0eadbe"
      },
      "source": [
        "Outstanding!\n",
        "\n",
        "It looks like our random image tensor made it all the way through our ViT architecture and it's outputting three logit values (one for each class).\n",
        "\n",
        "And because our `ViT` class has plenty of parameters we could customize the `img_size`, `patch_size` or `num_classes` if we wanted to."
      ]
    },
    {
      "cell_type": "markdown",
      "id": "2c0a0c9c-6d98-47fd-a152-8a06be99b5fa",
      "metadata": {
        "id": "2c0a0c9c-6d98-47fd-a152-8a06be99b5fa"
      },
      "source": [
        "### Visual summary of our ViT model\n",
        "\n",
        "We handcrafted our own version of the ViT architecture and seen that a random image tensor can flow all the way through it.\n",
        "\n",
        "We use `torchinfo.summary()` to get a visual overview of the input and output shapes of all the layers in our model."
      ]
    },
    {
      "cell_type": "code",
      "execution_count": null,
      "id": "494bde26-ed1e-45dc-b615-78ac268ca20e",
      "metadata": {
        "id": "494bde26-ed1e-45dc-b615-78ac268ca20e",
        "colab": {
          "base_uri": "https://localhost:8080/"
        },
        "outputId": "9da52219-f919-4487-a694-29cbe2762128"
      },
      "outputs": [
        {
          "output_type": "execute_result",
          "data": {
            "text/plain": [
              "=======================================================================================================================================\n",
              "Layer (type (var_name))                                 Input Shape          Output Shape         Param #              Trainable\n",
              "=======================================================================================================================================\n",
              "ViT (ViT)                                               [32, 3, 224, 224]    [32, 3]              152,064              True\n",
              "├─PatchEmbedding (patch_embedding)                      [32, 3, 224, 224]    [32, 196, 768]       --                   True\n",
              "│    └─Conv2d (patcher)                                 [32, 3, 224, 224]    [32, 768, 14, 14]    590,592              True\n",
              "│    └─Flatten (flatten)                                [32, 768, 14, 14]    [32, 768, 196]       --                   --\n",
              "├─Dropout (embedding_dropout)                           [32, 197, 768]       [32, 197, 768]       --                   --\n",
              "├─TransformerEncoder (transformer_encoder)              [32, 197, 768]       [32, 197, 768]       --                   True\n",
              "│    └─ModuleList (layers)                              --                   --                   --                   True\n",
              "│    │    └─TransformerEncoderLayer (0)                 [32, 197, 768]       [32, 197, 768]       7,087,872            True\n",
              "│    │    └─TransformerEncoderLayer (1)                 [32, 197, 768]       [32, 197, 768]       7,087,872            True\n",
              "│    │    └─TransformerEncoderLayer (2)                 [32, 197, 768]       [32, 197, 768]       7,087,872            True\n",
              "│    │    └─TransformerEncoderLayer (3)                 [32, 197, 768]       [32, 197, 768]       7,087,872            True\n",
              "│    │    └─TransformerEncoderLayer (4)                 [32, 197, 768]       [32, 197, 768]       7,087,872            True\n",
              "│    │    └─TransformerEncoderLayer (5)                 [32, 197, 768]       [32, 197, 768]       7,087,872            True\n",
              "│    │    └─TransformerEncoderLayer (6)                 [32, 197, 768]       [32, 197, 768]       7,087,872            True\n",
              "│    │    └─TransformerEncoderLayer (7)                 [32, 197, 768]       [32, 197, 768]       7,087,872            True\n",
              "│    │    └─TransformerEncoderLayer (8)                 [32, 197, 768]       [32, 197, 768]       7,087,872            True\n",
              "│    │    └─TransformerEncoderLayer (9)                 [32, 197, 768]       [32, 197, 768]       7,087,872            True\n",
              "│    │    └─TransformerEncoderLayer (10)                [32, 197, 768]       [32, 197, 768]       7,087,872            True\n",
              "│    │    └─TransformerEncoderLayer (11)                [32, 197, 768]       [32, 197, 768]       7,087,872            True\n",
              "├─Sequential (classifier)                               [32, 768]            [32, 3]              --                   True\n",
              "│    └─LayerNorm (0)                                    [32, 768]            [32, 768]            1,536                True\n",
              "│    └─Linear (1)                                       [32, 768]            [32, 3]              2,307                True\n",
              "=======================================================================================================================================\n",
              "Total params: 85,800,963\n",
              "Trainable params: 85,800,963\n",
              "Non-trainable params: 0\n",
              "Total mult-adds (G): 5.52\n",
              "=======================================================================================================================================\n",
              "Input size (MB): 19.27\n",
              "Forward/backward pass size (MB): 3292.20\n",
              "Params size (MB): 229.20\n",
              "Estimated Total Size (MB): 3540.67\n",
              "======================================================================================================================================="
            ]
          },
          "metadata": {},
          "execution_count": 24
        }
      ],
      "source": [
        "from torchinfo import summary\n",
        "\n",
        "# # Print a summary of our custom ViT model using torchinfo (uncomment for actual output)\n",
        "summary(model=vit, \n",
        "        input_size=(32, 3, 224, 224), # (batch_size, color_channels, height, width)\n",
        "        col_names=[\"input_size\", \"output_size\", \"num_params\", \"trainable\"],\n",
        "        col_width=20,\n",
        "        row_settings=[\"var_names\"]\n",
        ")"
      ]
    },
    {
      "cell_type": "markdown",
      "id": "d0279251-5cc1-42a5-bebc-8391ef911343",
      "metadata": {
        "id": "d0279251-5cc1-42a5-bebc-8391ef911343"
      },
      "source": [
        "\n",
        "\n",
        "Checkout the total number of parameters too, 85,800,963, our biggest model yet!\n",
        "\n",
        "The number is very close to PyTorch's pretrained ViT-Base with patch size 16 at [`torch.vision.models.vit_b_16()`](https://pytorch.org/vision/main/models/generated/torchvision.models.vit_b_16.html#torchvision.models.vit_b_16) with 86,567,656 total parameters (though this number of parameters is for the 1000 classes in ImageNet).\n",
        "\n",
        "> **Exercise:** Try changing the `num_classes` parameter of our `ViT()` model to 1000 and then creating another summary with `torchinfo.summary()` and see if the number of parameters lines up between our code and `torchvision.models.vit_b_16()`."
      ]
    },
    {
      "cell_type": "markdown",
      "id": "e8088ca7-48b4-4a96-8f58-f84980073e0b",
      "metadata": {
        "id": "e8088ca7-48b4-4a96-8f58-f84980073e0b"
      },
      "source": [
        "## Train our ViT model\n"
      ]
    },
    {
      "cell_type": "markdown",
      "id": "2554a736-ca45-4f83-abc3-41750c20ec58",
      "metadata": {
        "id": "2554a736-ca45-4f83-abc3-41750c20ec58"
      },
      "source": [
        "### Creating an optimizer\n",
        "\n",
        "\n",
        "> **Training & Fine-tuning.** We train all models, including ResNets, using Adam (Kingma & Ba, 2015 ) with $\\beta_{1}=0.9, \\beta_{2}=0.999$, a batch size of 4096 and apply a high weight decay of $0.1$, which we found to be useful for transfer of all models (Appendix D.1 shows that, in contrast to common practices, Adam works slightly better than SGD for ResNets in our setting).\n",
        "\n",
        "So we can see they chose to use the \"Adam\" optimizer ([`torch.optim.Adam()`](https://pytorch.org/docs/stable/generated/torch.optim.Adam.html#torch.optim.Adam)) rather than SGD (stochastic gradient descent, [`torch.optim.SGD()`](https://pytorch.org/docs/stable/generated/torch.optim.SGD.html#torch.optim.SGD)).\n",
        "\n",
        "The authors set Adam's $\\beta$ (beta) values to $\\beta_{1}=0.9, \\beta_{2}=0.999$, these are the default values for the `betas` parameter in `torch.optim.Adam(betas=(0.9, 0.999))`.\n",
        "\n",
        "They also state the use of [weight decay](https://paperswithcode.com/method/weight-decay) (slowly reducing the values of the weights during optimization to prevent overfitting), we can set this with the `weight_decay` parameter in `torch.optim.Adam(weight_decay=0.1)`.\n",
        "\n",
        "And as discussed previously, we're going to use a lower batch size than 4096 due to hardware limitations (if you have a large GPU, feel free to increase this)."
      ]
    },
    {
      "cell_type": "markdown",
      "id": "1d434f2f-2723-4ce4-8eac-32a8b9228305",
      "metadata": {
        "id": "1d434f2f-2723-4ce4-8eac-32a8b9228305"
      },
      "source": [
        "### Creating a loss function\n",
        "\n",
        "we'll use [`torch.nn.CrossEntropyLoss()`](https://pytorch.org/docs/stable/generated/torch.nn.CrossEntropyLoss.html)."
      ]
    },
    {
      "cell_type": "markdown",
      "id": "73d4f1e2-2922-4b01-9288-e8d206e20dad",
      "metadata": {
        "id": "73d4f1e2-2922-4b01-9288-e8d206e20dad"
      },
      "source": [
        "### Training our ViT model\n",
        "\n"
      ]
    },
    {
      "cell_type": "code",
      "execution_count": null,
      "id": "9107b068-f253-4026-ad21-83be41404043",
      "metadata": {
        "id": "9107b068-f253-4026-ad21-83be41404043"
      },
      "outputs": [],
      "source": [
        "# Setup the optimizer to optimize our ViT model parameters using hyperparameters from the ViT paper \n",
        "optimizer = torch.optim.Adam(params=vit.parameters(), \n",
        "                             lr=1e-3, \n",
        "                             betas=(0.9, 0.999), # default values but also mentioned in ViT paper\n",
        "                             weight_decay=0.1) # from the ViT paper section 4.1 (Training & Fine-tuning)\n",
        "\n",
        "# Setup the loss function for multi-class classification\n",
        "loss_fn = torch.nn.CrossEntropyLoss()"
      ]
    },
    {
      "cell_type": "code",
      "source": [
        "from pathlib import Path\n",
        "from zipfile import ZipFile\n",
        "import os\n",
        "\n",
        "Path(\"data\").mkdir(parents=True, exist_ok=True)\n",
        "\n",
        "with open(\"data/food101_pizza_steak_sushi.zip\", \"wb\") as f:\n",
        "  import requests\n",
        "  request = requests.get(\"https://github.com/VesalAhsani/Deep-learning-with-PyTorch/raw/main/data/food101_pizza_steak_sushi.zip\")\n",
        "  f.write(request.content)\n",
        "\n",
        "\n",
        "with ZipFile(\"data/food101_pizza_steak_sushi.zip\", \"r\") as zip_ref:\n",
        "  zip_ref.extractall(\"data/food101_pizza_steak_sushi\")\n",
        "\n",
        "os.remove(\"data/food101_pizza_steak_sushi.zip\")"
      ],
      "metadata": {
        "id": "iHDLwrCY6W4y"
      },
      "id": "iHDLwrCY6W4y",
      "execution_count": null,
      "outputs": []
    },
    {
      "cell_type": "code",
      "source": [
        "import torchvision\n",
        "from torchvision import datasets\n",
        "from torch.utils.data import DataLoader\n",
        "\n",
        "train_dir = \"data/food101_pizza_steak_sushi/train\"\n",
        "test_dir = \"data/food101_pizza_steak_sushi/test\"\n",
        "\n",
        "auto_transform = torchvision.models.EfficientNet_B0_Weights.DEFAULT.transforms()\n",
        "\n",
        "train_dataset = datasets.ImageFolder(root=train_dir, transform=auto_transform)\n",
        "test_dataset = datasets.ImageFolder(root=test_dir, transform=auto_transform)\n",
        "\n",
        "BATCH_SIZE=32\n",
        "NUM_WORKERS = 1\n",
        "train_dataloader = DataLoader(dataset=train_dataset,\n",
        "                              batch_size=BATCH_SIZE,\n",
        "                              shuffle=True,\n",
        "                              num_workers=NUM_WORKERS,\n",
        "                              )\n",
        "test_dataloader = DataLoader(dataset=test_dataset,\n",
        "                              batch_size=BATCH_SIZE,\n",
        "                              shuffle=False,\n",
        "                              num_workers=NUM_WORKERS,\n",
        "                              )"
      ],
      "metadata": {
        "id": "489bK3zt7GB6"
      },
      "id": "489bK3zt7GB6",
      "execution_count": null,
      "outputs": []
    },
    {
      "cell_type": "code",
      "source": [
        "!pip install torchmetrics\n",
        "from torchmetrics import Accuracy\n",
        "accuracy_fn = Accuracy().to(device)"
      ],
      "metadata": {
        "colab": {
          "base_uri": "https://localhost:8080/"
        },
        "id": "zlYz_qMn7snO",
        "outputId": "539230b3-e024-462d-de9a-ece804a459fb"
      },
      "id": "zlYz_qMn7snO",
      "execution_count": null,
      "outputs": [
        {
          "output_type": "stream",
          "name": "stdout",
          "text": [
            "Looking in indexes: https://pypi.org/simple, https://us-python.pkg.dev/colab-wheels/public/simple/\n",
            "Requirement already satisfied: torchmetrics in /usr/local/lib/python3.7/dist-packages (0.9.3)\n",
            "Requirement already satisfied: typing-extensions in /usr/local/lib/python3.7/dist-packages (from torchmetrics) (4.1.1)\n",
            "Requirement already satisfied: packaging in /usr/local/lib/python3.7/dist-packages (from torchmetrics) (21.3)\n",
            "Requirement already satisfied: numpy>=1.17.2 in /usr/local/lib/python3.7/dist-packages (from torchmetrics) (1.21.6)\n",
            "Requirement already satisfied: torch>=1.3.1 in /usr/local/lib/python3.7/dist-packages (from torchmetrics) (1.12.1+cu113)\n",
            "Requirement already satisfied: pyparsing!=3.0.5,>=2.0.2 in /usr/local/lib/python3.7/dist-packages (from packaging->torchmetrics) (3.0.9)\n"
          ]
        }
      ]
    },
    {
      "cell_type": "code",
      "source": [
        "def train_step(model, dataloader, loss_fn, accuracy_fn, optimizer, device):\n",
        "  model.train()\n",
        "  train_loss, train_acc = 0, 0\n",
        "\n",
        "  for batch, (X,y) in enumerate(dataloader):\n",
        "    X, y = X.to(device), y.to(device)\n",
        "    y_pred = model(X)\n",
        "    loss = loss_fn(y_pred, y)\n",
        "    train_loss += loss\n",
        "    train_acc += accuracy_fn(y_pred, y)\n",
        "\n",
        "    optimizer.zero_grad()\n",
        "    loss.backward()\n",
        "    optimizer.step()\n",
        "  \n",
        "  train_loss /= len(dataloader)\n",
        "  train_acc /= len(dataloader)\n",
        "  return train_loss, train_acc\n",
        "\n",
        "def test_step(model, dataloader, loss_fn, accuracy_fn, device):\n",
        "  model.eval()\n",
        "  test_loss, test_acc = 0, 0\n",
        "\n",
        "  with torch.inference_mode():\n",
        "    for batch, (X,y) in enumerate(dataloader):\n",
        "      X, y = X.to(device), y.to(device)\n",
        "      test_pred = model(X)\n",
        "      loss = loss_fn(test_pred, y)\n",
        "      test_loss += loss\n",
        "      test_acc += accuracy_fn(test_pred, y)\n",
        "\n",
        "    test_loss /= len(dataloader)\n",
        "    test_acc /= len(dataloader)\n",
        "    return test_loss, test_acc\n",
        "\n",
        "def train(model, train_dataloader, test_dataloader, loss_fn, accuracy_fn, optimizer, epochs, device):\n",
        "  from tqdm.auto import tqdm\n",
        "\n",
        "  results = {\"train_loss\":[],\n",
        "             \"train_acc\":[],\n",
        "             \"test_loss\":[],\n",
        "             \"test_acc\":[]\n",
        "             }\n",
        "  for epoch in tqdm(range(epochs)):\n",
        "    train_loss, train_acc = train_step(model, train_dataloader, loss_fn, accuracy_fn, optimizer, device)\n",
        "    test_loss, test_acc = test_step(model, test_dataloader, loss_fn, accuracy_fn, device)\n",
        "  \n",
        "    results[\"train_loss\"].append(train_loss)\n",
        "    results[\"train_acc\"].append(train_acc)\n",
        "    results[\"test_loss\"].append(test_loss)\n",
        "    results[\"test_acc\"].append(test_acc)\n",
        "\n",
        "    print(f\"Epoch: {epoch+1} | train_loss: {train_loss:.4f} train_acc: {train_acc:.2f}% | test_loss: {test_loss:.4f} test_acc: {test_acc:.2f}%\")\n",
        "\n",
        "  return results"
      ],
      "metadata": {
        "id": "bUSSHNST7eW2"
      },
      "id": "bUSSHNST7eW2",
      "execution_count": null,
      "outputs": []
    },
    {
      "cell_type": "code",
      "source": [
        "set_seeds()\n",
        "results = train(vit, train_dataloader, test_dataloader, loss_fn, accuracy_fn, optimizer, 5, device)"
      ],
      "metadata": {
        "colab": {
          "base_uri": "https://localhost:8080/",
          "height": 136,
          "referenced_widgets": [
            "0be929bbb72f431aaa88e40559f56e32",
            "2d205abbdff147e294870896549b8519",
            "9b4ce1a9e012420fac024384d270ff51",
            "4a597e26e2e6446a8d67061a81b815d7",
            "dbcff7f462f24fcc92614c8106b0c0ce",
            "f4cfe03f86c740d088d0ca326d1fb51b",
            "7f377961c338437cb878dc97da113b54",
            "2e85795a0123486eb8c3d992550e8f5d",
            "6f8a076ad4f14b05848380876350fa4c",
            "62ff156944964085bc025aeb6990eb04",
            "72c658a0471f4c4a918c78a00108025d"
          ]
        },
        "id": "AMKUnNdl8aVg",
        "outputId": "70f17424-9388-4fab-94eb-89f7c343b5c3"
      },
      "id": "AMKUnNdl8aVg",
      "execution_count": null,
      "outputs": [
        {
          "output_type": "display_data",
          "data": {
            "text/plain": [
              "  0%|          | 0/5 [00:00<?, ?it/s]"
            ],
            "application/vnd.jupyter.widget-view+json": {
              "version_major": 2,
              "version_minor": 0,
              "model_id": "0be929bbb72f431aaa88e40559f56e32"
            }
          },
          "metadata": {}
        },
        {
          "output_type": "stream",
          "name": "stdout",
          "text": [
            "Epoch: 1 | train_loss: 2.4362 train_acc: 0.31% | test_loss: 1.7152 test_acc: 0.27%\n",
            "Epoch: 2 | train_loss: 1.4376 train_acc: 0.40% | test_loss: 2.3556 test_acc: 0.26%\n",
            "Epoch: 3 | train_loss: 1.4850 train_acc: 0.36% | test_loss: 2.0678 test_acc: 0.26%\n",
            "Epoch: 4 | train_loss: 1.7063 train_acc: 0.33% | test_loss: 2.4778 test_acc: 0.20%\n",
            "Epoch: 5 | train_loss: 1.5202 train_acc: 0.30% | test_loss: 1.6918 test_acc: 0.26%\n"
          ]
        }
      ]
    },
    {
      "cell_type": "markdown",
      "id": "4ba435de-1521-4d70-a48e-7039062c6a6f",
      "metadata": {
        "id": "4ba435de-1521-4d70-a48e-7039062c6a6f"
      },
      "source": [
        "### Investigation!\n",
        "\n",
        "The original ViT architecture achieves good results on several image classification benchmarks.\n",
        "\n",
        "The original ViT paper uses a far larger amount of data than ours (in deep learning, more data is generally always a good thing) and a longer training schedule (see Table 3).\n",
        "\n",
        "| **Hyperparameter value** | **ViT Paper** | **Our implementation** |\n",
        "| ----- | ----- | ----- |\n",
        "| Number of training images | 1.3M (ImageNet-1k), 14M (ImageNet-21k), 303M (JFT) | 225 |\n",
        "| Epochs | 7 (for largest dataset), 90, 300 (for ImageNet) | 10 | \n",
        "| Batch size | 4096 | 32 |\n",
        "| [Learning rate warmup](https://paperswithcode.com/method/linear-warmup) | 10k steps (Table 3) | None | \n",
        "| [Learning rate decay](https://medium.com/analytics-vidhya/learning-rate-decay-and-methods-in-deep-learning-2cee564f910b#:~:text=Learning%20rate%20decay%20is%20a,help%20both%20optimization%20and%20generalization.) | Linear/Cosine (Table 3) | None | \n",
        "| [Gradient clipping](https://paperswithcode.com/method/gradient-clipping) | Global norm 1 (Table 3) | None |\n",
        "\n",
        "\n",
        "\n",
        "Because of the size of the ViT architecture and its high number of parameters (increased learning capabilities), and amount of data it uses (increased learning opportunities), many of the techniques used in the ViT paper training scheme such as learning rate warmup, learning rate decay and gradient clipping are specifically designed to [prevent overfitting](https://www.learnpytorch.io/04_pytorch_custom_datasets/#81-how-to-deal-with-overfitting) (regularization). \n"
      ]
    },
    {
      "cell_type": "markdown",
      "id": "de0f9531-64f3-4e13-8482-ce545d608900",
      "metadata": {
        "id": "de0f9531-64f3-4e13-8482-ce545d608900"
      },
      "source": [
        "## Using a pretrained ViT from `torchvision.models` \n"
      ]
    },
    {
      "cell_type": "code",
      "execution_count": null,
      "id": "30de8333-74b0-49ae-a81e-0266e6325f26",
      "metadata": {
        "id": "30de8333-74b0-49ae-a81e-0266e6325f26",
        "outputId": "c8ec8579-4e0f-4209-fb6e-68ca2c4023ee",
        "colab": {
          "base_uri": "https://localhost:8080/"
        }
      },
      "outputs": [
        {
          "output_type": "stream",
          "name": "stdout",
          "text": [
            "1.12.1+cu113\n",
            "0.13.1+cu113\n"
          ]
        }
      ],
      "source": [
        "# The following requires torch v0.12+ and torchvision v0.13+\n",
        "import torch\n",
        "import torchvision\n",
        "print(torch.__version__) \n",
        "print(torchvision.__version__)"
      ]
    },
    {
      "cell_type": "code",
      "execution_count": null,
      "id": "b0b87f68-98cc-49f8-89bd-ff220a757f76",
      "metadata": {
        "id": "b0b87f68-98cc-49f8-89bd-ff220a757f76",
        "outputId": "1328f364-e83a-426a-9565-ac61dcc6b8b9",
        "colab": {
          "base_uri": "https://localhost:8080/",
          "height": 35
        }
      },
      "outputs": [
        {
          "output_type": "execute_result",
          "data": {
            "text/plain": [
              "'cuda'"
            ],
            "application/vnd.google.colaboratory.intrinsic+json": {
              "type": "string"
            }
          },
          "metadata": {},
          "execution_count": 35
        }
      ],
      "source": [
        "device = \"cuda\" if torch.cuda.is_available() else \"cpu\"\n",
        "device"
      ]
    },
    {
      "cell_type": "markdown",
      "id": "f3d05630-aa4c-41cc-b7c0-ac9de0a4390c",
      "metadata": {
        "id": "f3d05630-aa4c-41cc-b7c0-ac9de0a4390c"
      },
      "source": [
        "Finally, we'll get the pretrained ViT-Base with patch size 16 from `torchvision.models` and prepare it for our dataset by turning it into a feature extractor transfer learning model.\n",
        "\n",
        "Specifically, we'll:\n",
        "1. Get the pretrained weights for ViT-Base trained on ImageNet-1k from [`torchvision.models.ViT_B_16_Weights.DEFAULT`](https://pytorch.org/vision/stable/models/generated/torchvision.models.vit_b_16.html#torchvision.models.ViT_B_16_Weights) (`DEFAULT` stands for best available).\n",
        "2. Setup a ViT model instance via `torchvision.models.vit_b_16`, pass it the pretrained weights step 1 and send it to the target device.\n",
        "3. Freeze all of the parameters in the base ViT model created in step 2 by setting their `requires_grad` attribute to `False`. \n",
        "4. Update the classifier head of the ViT model created in step 2 to suit our own problem by changing the number of `out_features` to our number of classes (pizza, steak, sushi). \n"
      ]
    },
    {
      "cell_type": "code",
      "execution_count": null,
      "id": "b8e2dda6-8af0-4255-815f-4d885fa4b477",
      "metadata": {
        "id": "b8e2dda6-8af0-4255-815f-4d885fa4b477",
        "colab": {
          "base_uri": "https://localhost:8080/",
          "height": 66,
          "referenced_widgets": [
            "f88f9a97b7fc4112b3b2f22d1aed746f",
            "ed73bdd63d3a4cc18674ecdf5069dfb1",
            "1f0deedeb08147e2b44cedeacb5868fe",
            "feb024def98d4e5db189f2c9e633995e",
            "e840205a653b4b0ba9e24951b6949670",
            "030765f591bb48f18373d28864be2089",
            "58edb45ae760427381c14223823a17a5",
            "25994a315f3747138101de55242cbc34",
            "5789624668674ee2af272a5f43c1d09d",
            "be613283dee444c09d78dd64b58e5811",
            "86bf81dff6b743468299537a1b632a35"
          ]
        },
        "outputId": "e7aa2b97-ef77-4cb7-af4e-cb90a3bbc152"
      },
      "outputs": [
        {
          "output_type": "stream",
          "name": "stderr",
          "text": [
            "Downloading: \"https://download.pytorch.org/models/vit_b_16-c867db91.pth\" to /root/.cache/torch/hub/checkpoints/vit_b_16-c867db91.pth\n"
          ]
        },
        {
          "output_type": "display_data",
          "data": {
            "text/plain": [
              "  0%|          | 0.00/330M [00:00<?, ?B/s]"
            ],
            "application/vnd.jupyter.widget-view+json": {
              "version_major": 2,
              "version_minor": 0,
              "model_id": "f88f9a97b7fc4112b3b2f22d1aed746f"
            }
          },
          "metadata": {}
        }
      ],
      "source": [
        "# 1. Get pretrained weights for ViT-Base\n",
        "pretrained_vit_weights = torchvision.models.ViT_B_16_Weights.DEFAULT # requires torchvision >= 0.13, \"DEFAULT\" means best available\n",
        "\n",
        "# 2. Setup a ViT model instance with pretrained weights\n",
        "pretrained_vit = torchvision.models.vit_b_16(weights=pretrained_vit_weights).to(device)\n",
        "\n",
        "# 3. Freeze the base parameters\n",
        "for parameter in pretrained_vit.parameters():\n",
        "    parameter.requires_grad = False\n",
        "    \n",
        "# 4. Change the classifier head (set the seeds to ensure same initialization with linear head)\n",
        "set_seeds()\n",
        "pretrained_vit.heads = nn.Linear(in_features=768, out_features=3).to(device)\n",
        "# pretrained_vit # uncomment for model output "
      ]
    },
    {
      "cell_type": "markdown",
      "id": "182fc970-1650-48b3-914d-0cb3e287beec",
      "metadata": {
        "id": "182fc970-1650-48b3-914d-0cb3e287beec"
      },
      "source": [
        "Pretrained ViT feature extractor model created!\n",
        "\n",
        "Let's now check it out by printing a `torchinfo.summary()`."
      ]
    },
    {
      "cell_type": "code",
      "execution_count": null,
      "id": "8fbd83a1",
      "metadata": {
        "id": "8fbd83a1",
        "colab": {
          "base_uri": "https://localhost:8080/"
        },
        "outputId": "16ce0629-dbbf-4d3a-f323-5f82de8d4414"
      },
      "outputs": [
        {
          "output_type": "execute_result",
          "data": {
            "text/plain": [
              "============================================================================================================================================\n",
              "Layer (type (var_name))                                      Input Shape          Output Shape         Param #              Trainable\n",
              "============================================================================================================================================\n",
              "VisionTransformer (VisionTransformer)                        [32, 3, 224, 224]    [32, 3]              768                  Partial\n",
              "├─Conv2d (conv_proj)                                         [32, 3, 224, 224]    [32, 768, 14, 14]    (590,592)            False\n",
              "├─Encoder (encoder)                                          [32, 197, 768]       [32, 197, 768]       151,296              False\n",
              "│    └─Dropout (dropout)                                     [32, 197, 768]       [32, 197, 768]       --                   --\n",
              "│    └─Sequential (layers)                                   [32, 197, 768]       [32, 197, 768]       --                   False\n",
              "│    │    └─EncoderBlock (encoder_layer_0)                   [32, 197, 768]       [32, 197, 768]       (7,087,872)          False\n",
              "│    │    └─EncoderBlock (encoder_layer_1)                   [32, 197, 768]       [32, 197, 768]       (7,087,872)          False\n",
              "│    │    └─EncoderBlock (encoder_layer_2)                   [32, 197, 768]       [32, 197, 768]       (7,087,872)          False\n",
              "│    │    └─EncoderBlock (encoder_layer_3)                   [32, 197, 768]       [32, 197, 768]       (7,087,872)          False\n",
              "│    │    └─EncoderBlock (encoder_layer_4)                   [32, 197, 768]       [32, 197, 768]       (7,087,872)          False\n",
              "│    │    └─EncoderBlock (encoder_layer_5)                   [32, 197, 768]       [32, 197, 768]       (7,087,872)          False\n",
              "│    │    └─EncoderBlock (encoder_layer_6)                   [32, 197, 768]       [32, 197, 768]       (7,087,872)          False\n",
              "│    │    └─EncoderBlock (encoder_layer_7)                   [32, 197, 768]       [32, 197, 768]       (7,087,872)          False\n",
              "│    │    └─EncoderBlock (encoder_layer_8)                   [32, 197, 768]       [32, 197, 768]       (7,087,872)          False\n",
              "│    │    └─EncoderBlock (encoder_layer_9)                   [32, 197, 768]       [32, 197, 768]       (7,087,872)          False\n",
              "│    │    └─EncoderBlock (encoder_layer_10)                  [32, 197, 768]       [32, 197, 768]       (7,087,872)          False\n",
              "│    │    └─EncoderBlock (encoder_layer_11)                  [32, 197, 768]       [32, 197, 768]       (7,087,872)          False\n",
              "│    └─LayerNorm (ln)                                        [32, 197, 768]       [32, 197, 768]       (1,536)              False\n",
              "├─Linear (heads)                                             [32, 768]            [32, 3]              2,307                True\n",
              "============================================================================================================================================\n",
              "Total params: 85,800,963\n",
              "Trainable params: 2,307\n",
              "Non-trainable params: 85,798,656\n",
              "Total mult-adds (G): 5.52\n",
              "============================================================================================================================================\n",
              "Input size (MB): 19.27\n",
              "Forward/backward pass size (MB): 3330.74\n",
              "Params size (MB): 229.20\n",
              "Estimated Total Size (MB): 3579.21\n",
              "============================================================================================================================================"
            ]
          },
          "metadata": {},
          "execution_count": 37
        }
      ],
      "source": [
        "# # Print a summary using torchinfo (uncomment for actual output)\n",
        "summary(model=pretrained_vit, \n",
        "        input_size=(32, 3, 224, 224), # (batch_size, color_channels, height, width)\n",
        "        col_names=[\"input_size\", \"output_size\", \"num_params\", \"trainable\"],\n",
        "        col_width=20,\n",
        "        row_settings=[\"var_names\"]\n",
        ")"
      ]
    },
    {
      "cell_type": "markdown",
      "id": "90c176e5-6453-4911-b8ec-97bab43b437d",
      "metadata": {
        "id": "90c176e5-6453-4911-b8ec-97bab43b437d"
      },
      "source": [
        "The total number of parameters, 85,800,963, is the same as our custom made ViT model above.\n",
        "\n",
        "But the number of trainable parameters for `pretrained_vit` is much, much lower than our custom `vit` at only 2,307 compared to 85,800,963 (in our custom `vit`, since we're training from scratch, all parameters are trainable). \n",
        "\n",
        "This means the pretrained model should train a lot faster, we could potentially even use a larger batch size since less parameter updates are going to be taking up memory."
      ]
    },
    {
      "cell_type": "markdown",
      "id": "c8736ad3-f510-4418-8c8e-f6cc3f2e1788",
      "metadata": {
        "id": "c8736ad3-f510-4418-8c8e-f6cc3f2e1788"
      },
      "source": [
        "Remember, if you're going to use a pretrained model, it's generally important to **ensure your own custom data is transformed/formatted in the same way the data the original model was trained on**. "
      ]
    },
    {
      "cell_type": "markdown",
      "id": "4e9da731-3c11-4d79-9e68-f006fcedd288",
      "metadata": {
        "id": "4e9da731-3c11-4d79-9e68-f006fcedd288"
      },
      "source": [
        "### Train feature extractor ViT model \n"
      ]
    },
    {
      "cell_type": "code",
      "source": [
        "# Setup the optimizer to optimize our ViT model parameters using hyperparameters from the ViT paper \n",
        "optimizer = torch.optim.Adam(params=pretrained_vit.parameters(), \n",
        "                             lr=1e-3)\n",
        "\n",
        "# Setup the loss function for multi-class classification\n",
        "loss_fn = torch.nn.CrossEntropyLoss()\n",
        "\n",
        "from torchmetrics import Accuracy\n",
        "accuracy_fn = Accuracy().to(device)\n",
        "\n",
        "train_dir = \"data/food101_pizza_steak_sushi/train\"\n",
        "test_dir = \"data/food101_pizza_steak_sushi/test\"\n",
        "\n",
        "auto_transform = torchvision.models.ViT_B_16_Weights.DEFAULT.transforms()\n",
        "\n",
        "train_dataset = datasets.ImageFolder(root=train_dir, transform=auto_transform)\n",
        "test_dataset = datasets.ImageFolder(root=test_dir, transform=auto_transform)\n",
        "\n",
        "BATCH_SIZE=32\n",
        "NUM_WORKERS = 1\n",
        "train_dataloader = DataLoader(dataset=train_dataset,\n",
        "                              batch_size=BATCH_SIZE,\n",
        "                              shuffle=True,\n",
        "                              num_workers=NUM_WORKERS,\n",
        "                              )\n",
        "test_dataloader = DataLoader(dataset=test_dataset,\n",
        "                              batch_size=BATCH_SIZE,\n",
        "                              shuffle=False,\n",
        "                              num_workers=NUM_WORKERS,\n",
        "                              )\n",
        "\n",
        "def train_step(model, dataloader, loss_fn, accuracy_fn, optimizer, device):\n",
        "  model.train()\n",
        "  train_loss, train_acc = 0, 0\n",
        "\n",
        "  for batch, (X,y) in enumerate(dataloader):\n",
        "    X, y = X.to(device), y.to(device)\n",
        "    y_pred = model(X)\n",
        "    loss = loss_fn(y_pred, y)\n",
        "    train_loss += loss\n",
        "    train_acc += accuracy_fn(y_pred, y)\n",
        "\n",
        "    optimizer.zero_grad()\n",
        "    loss.backward()\n",
        "    optimizer.step()\n",
        "  \n",
        "  train_loss /= len(dataloader)\n",
        "  train_acc /= len(dataloader)\n",
        "  return train_loss, train_acc\n",
        "\n",
        "def test_step(model, dataloader, loss_fn, accuracy_fn, device):\n",
        "  model.eval()\n",
        "  test_loss, test_acc = 0, 0\n",
        "\n",
        "  with torch.inference_mode():\n",
        "    for batch, (X,y) in enumerate(dataloader):\n",
        "      X, y = X.to(device), y.to(device)\n",
        "      test_pred = model(X)\n",
        "      loss = loss_fn(test_pred, y)\n",
        "      test_loss += loss\n",
        "      test_acc += accuracy_fn(test_pred, y)\n",
        "\n",
        "    test_loss /= len(dataloader)\n",
        "    test_acc /= len(dataloader)\n",
        "    return test_loss, test_acc\n",
        "\n",
        "def train(model, train_dataloader, test_dataloader, loss_fn, accuracy_fn, optimizer, epochs, device):\n",
        "  from tqdm.auto import tqdm\n",
        "\n",
        "  results = {\"train_loss\":[],\n",
        "             \"train_acc\":[],\n",
        "             \"test_loss\":[],\n",
        "             \"test_acc\":[]\n",
        "             }\n",
        "  for epoch in tqdm(range(epochs)):\n",
        "    train_loss, train_acc = train_step(model, train_dataloader, loss_fn, accuracy_fn, optimizer, device)\n",
        "    test_loss, test_acc = test_step(model, test_dataloader, loss_fn, accuracy_fn, device)\n",
        "  \n",
        "    results[\"train_loss\"].append(train_loss)\n",
        "    results[\"train_acc\"].append(train_acc)\n",
        "    results[\"test_loss\"].append(test_loss)\n",
        "    results[\"test_acc\"].append(test_acc)\n",
        "\n",
        "    print(f\"Epoch: {epoch+1} | train_loss: {train_loss:.4f} train_acc: {train_acc:.2f}% | test_loss: {test_loss:.4f} test_acc: {test_acc:.2f}%\")\n",
        "\n",
        "  return results"
      ],
      "metadata": {
        "id": "cTnh7yJaJRcQ"
      },
      "id": "cTnh7yJaJRcQ",
      "execution_count": null,
      "outputs": []
    },
    {
      "cell_type": "code",
      "execution_count": null,
      "id": "a49408b4-24d9-4bb1-90a2-dd61c08f78a4",
      "metadata": {
        "id": "a49408b4-24d9-4bb1-90a2-dd61c08f78a4",
        "outputId": "595c5cad-f5a5-4c0d-9dfb-1c0cfec0ca94",
        "colab": {
          "referenced_widgets": [
            "615093c16c134c609fe50d2b33587fd8",
            "b34ec866d1ac47e4a5ddfa03730344a3",
            "2be47bfd21764a55a0a398d1c4152b3a",
            "3d7b159fdf1648daaf077950a4c956a6",
            "24a8b3d7c841424d8217cddbcf0c829f",
            "1faca021f2b14a36a1fc3ea2155fe508",
            "82fc0768fd7c45bba2e66ad201adfe32",
            "d6a8eaf963c54d50bac9ddc878f57e94",
            "5a1ad7ba7b894222a43dcb1a408ba0cc",
            "9084ce967975429b814ccceb32502a7e",
            "b9f38b4b82c040a0912c20ec2e706ee1"
          ],
          "base_uri": "https://localhost:8080/",
          "height": 223
        }
      },
      "outputs": [
        {
          "output_type": "display_data",
          "data": {
            "text/plain": [
              "  0%|          | 0/10 [00:00<?, ?it/s]"
            ],
            "application/vnd.jupyter.widget-view+json": {
              "version_major": 2,
              "version_minor": 0,
              "model_id": "615093c16c134c609fe50d2b33587fd8"
            }
          },
          "metadata": {}
        },
        {
          "output_type": "stream",
          "name": "stdout",
          "text": [
            "Epoch: 1 | train_loss: 0.7665 train_acc: 0.72% | test_loss: 0.5432 test_acc: 0.87%\n",
            "Epoch: 2 | train_loss: 0.3428 train_acc: 0.95% | test_loss: 0.3263 test_acc: 0.90%\n",
            "Epoch: 3 | train_loss: 0.2064 train_acc: 0.95% | test_loss: 0.2707 test_acc: 0.91%\n",
            "Epoch: 4 | train_loss: 0.1556 train_acc: 0.96% | test_loss: 0.2422 test_acc: 0.91%\n",
            "Epoch: 5 | train_loss: 0.1246 train_acc: 0.97% | test_loss: 0.2279 test_acc: 0.90%\n",
            "Epoch: 6 | train_loss: 0.1216 train_acc: 0.98% | test_loss: 0.2129 test_acc: 0.93%\n",
            "Epoch: 7 | train_loss: 0.0938 train_acc: 0.98% | test_loss: 0.2352 test_acc: 0.89%\n",
            "Epoch: 8 | train_loss: 0.0797 train_acc: 0.98% | test_loss: 0.2281 test_acc: 0.88%\n",
            "Epoch: 9 | train_loss: 0.1098 train_acc: 0.99% | test_loss: 0.2074 test_acc: 0.94%\n",
            "Epoch: 10 | train_loss: 0.0650 train_acc: 0.99% | test_loss: 0.1804 test_acc: 0.92%\n"
          ]
        }
      ],
      "source": [
        "set_seeds()\n",
        "results = train(pretrained_vit, train_dataloader, test_dataloader, loss_fn, accuracy_fn, optimizer, 10, device)"
      ]
    },
    {
      "cell_type": "markdown",
      "source": [
        "### Plot feature extractor ViT model loss curves"
      ],
      "metadata": {
        "id": "P_MwtENFVAWu"
      },
      "id": "P_MwtENFVAWu"
    },
    {
      "cell_type": "code",
      "execution_count": null,
      "id": "3c0af18e-6419-4dd6-b8ea-f5830bbd63d5",
      "metadata": {
        "id": "3c0af18e-6419-4dd6-b8ea-f5830bbd63d5",
        "outputId": "1db610cf-b1ac-48b9-b0e8-008f22033b45",
        "colab": {
          "base_uri": "https://localhost:8080/",
          "height": 432
        }
      },
      "outputs": [
        {
          "output_type": "display_data",
          "data": {
            "text/plain": [
              "<Figure size 1080x504 with 2 Axes>"
            ],
            "image/png": "[encoded data removed]"
          },
          "metadata": {
            "needs_background": "light"
          }
        }
      ],
      "source": [
        "# Let's plot loss curves\n",
        "import matplotlib.pyplot as plt\n",
        "import numpy as np\n",
        "\n",
        "train_loss=[]\n",
        "train_acc=[]\n",
        "test_loss=[]\n",
        "test_acc=[]\n",
        "for i in range(len(results[\"train_loss\"])):\n",
        "  tr_loss = results[\"train_loss\"][i].cpu().detach().numpy().item()\n",
        "  tr_acc = results[\"train_acc\"][i].cpu().detach().numpy().item()\n",
        "  te_loss = results[\"test_loss\"][i].cpu().detach().numpy().item()\n",
        "  te_acc = results[\"test_acc\"][i].cpu().detach().numpy().item()\n",
        "\n",
        "  train_loss.append(tr_loss)\n",
        "  train_acc.append(tr_acc)\n",
        "  test_loss.append(te_loss)\n",
        "  test_acc.append(te_acc)\n",
        "\n",
        "epochs = range(len(results[\"train_loss\"]))\n",
        "\n",
        "plt.figure(figsize=(15,7))\n",
        "plt.subplot(1,2,1)\n",
        "plt.plot(epochs, train_loss, label = \"train_loss\")\n",
        "plt.plot(epochs, test_loss, label = \"test_loss\")\n",
        "plt.legend()\n",
        "plt.subplot(1,2,2)\n",
        "plt.plot(epochs, train_acc, label = \"train_acc\")\n",
        "plt.plot(epochs, test_acc, label = \"test_acc\")\n",
        "plt.legend();"
      ]
    },
    {
      "cell_type": "markdown",
      "id": "eab07548-3b1c-43a3-9f8d-02672ef1f47c",
      "metadata": {
        "id": "eab07548-3b1c-43a3-9f8d-02672ef1f47c"
      },
      "source": [
        "### Save feature extractor ViT model and check file size\n"
      ]
    },
    {
      "cell_type": "code",
      "source": [
        "from pathlib import Path\n",
        "\n",
        "def save(model, save_path):\n",
        "  \"\"\"\n",
        "  save_path should include .pth or .pt at the end.\n",
        "  \"\"\"  \n",
        "  torch.save(obj=model.state_dict(),\n",
        "             f=save_path)"
      ],
      "metadata": {
        "id": "eJKh5kg_Lduo"
      },
      "id": "eJKh5kg_Lduo",
      "execution_count": null,
      "outputs": []
    },
    {
      "cell_type": "code",
      "source": [
        "Path(\"models\").mkdir(parents=True, exist_ok=True)\n",
        "save(model=pretrained_vit,\n",
        "           save_path = \"models/pretrained_vit_16_food101_sample.pth\")"
      ],
      "metadata": {
        "id": "teWA2jWILgk3"
      },
      "id": "teWA2jWILgk3",
      "execution_count": null,
      "outputs": []
    },
    {
      "cell_type": "markdown",
      "id": "0d115e5c-46a0-4063-a3d5-24609f2c9f51",
      "metadata": {
        "id": "0d115e5c-46a0-4063-a3d5-24609f2c9f51"
      },
      "source": [
        "And since we're thinking about deploying this model, it'd be good to know the size of it (in megabytes or MB).\n",
        "\n",
        "We can check the size of our model in bytes using the `st_size` attribute of Python's [`pathlib.Path().stat()`](https://docs.python.org/3/library/pathlib.html#pathlib.Path.stat) method whilst passing it our model's filepath name. \n",
        "\n",
        "We can then scale the size in bytes to megabytes."
      ]
    },
    {
      "cell_type": "code",
      "execution_count": null,
      "id": "f52ef12c-b88e-4796-84eb-981491a84334",
      "metadata": {
        "id": "f52ef12c-b88e-4796-84eb-981491a84334",
        "outputId": "1e4cd7f1-40d7-41bb-fbd9-ae805751cb22",
        "colab": {
          "base_uri": "https://localhost:8080/"
        }
      },
      "outputs": [
        {
          "output_type": "stream",
          "name": "stdout",
          "text": [
            "Pretrained ViT feature extractor model size: 327 MB\n"
          ]
        }
      ],
      "source": [
        "from pathlib import Path\n",
        "\n",
        "# Get the model size in bytes then convert to megabytes\n",
        "pretrained_vit_model_size = Path(\"models/pretrained_vit_16_food101_sample.pth\").stat().st_size // (1024*1024) # division converts bytes to megabytes (roughly) \n",
        "print(f\"Pretrained ViT feature extractor model size: {pretrained_vit_model_size} MB\")"
      ]
    },
    {
      "cell_type": "markdown",
      "id": "6b63b857-04e1-460c-a510-fc61231b5bc4",
      "metadata": {
        "id": "6b63b857-04e1-460c-a510-fc61231b5bc4"
      },
      "source": [
        "\n",
        "\n",
        "How does this compare to the EffNetB2 feature extractor model in [05. PyTorch Experiment Tracking](https://github.com/VesalAhsani/Deep-learning-with-PyTorch/blob/main/05_PyTorch_Experiment_Tracking.ipynb)?\n",
        "\n",
        "| **Model** | **Model size (MB)** | **Test loss** | **Test accuracy** | \n",
        "| ----- | ----- | ----- | ------ |\n",
        "| EffNetB2 feature extractor | 29 | ~0.5157 | ~0.92 | \n",
        "| ViT feature extractor | 327 | ~0.1804 | ~0.92 | \n",
        "\n",
        "\n",
        "The EffNetB2 model is ~11x smaller than the ViT model with similiar results for test accuracy; but different for test loss.\n",
        "\n",
        "But in terms of deployment, if we were comparing these two models, something we'd need to consider is whether the extra accuracy from the ViT model is worth the ~11x increase in model size? \n",
        "\n",
        "Perhaps such a large model would take longer to load/run and wouldn't provide as good an experience as EffNetB2 which performs similarly but at a much reduced size."
      ]
    },
    {
      "cell_type": "markdown",
      "id": "2adf6c78-95c9-4c0c-b143-6d66d3b7aa25",
      "metadata": {
        "id": "2adf6c78-95c9-4c0c-b143-6d66d3b7aa25"
      },
      "source": [
        "##  Make predictions on a custom image\n"
      ]
    },
    {
      "cell_type": "code",
      "execution_count": null,
      "id": "16aa8e02-e209-450d-920e-806fde1997f5",
      "metadata": {
        "id": "16aa8e02-e209-450d-920e-806fde1997f5",
        "outputId": "0d962dec-d112-4c9b-b355-41f5e70ec6e5",
        "colab": {
          "base_uri": "https://localhost:8080/",
          "height": 264
        }
      },
      "outputs": [
        {
          "output_type": "display_data",
          "data": {
            "text/plain": [
              "<Figure size 432x288 with 1 Axes>"
            ],
            "image/png": "[encoded data removed]"
          },
          "metadata": {
            "needs_background": "light"
          }
        }
      ],
      "source": [
        "with open(\"data/custom.jpeg\", \"wb\") as f:\n",
        "  import requests\n",
        "  request = requests.get(\"https://github.com/VesalAhsani/Deep-learning-with-PyTorch/raw/main/data/custom.jpeg\")\n",
        "  f.write(request.content)\n",
        "\n",
        "import random\n",
        "from PIL import Image\n",
        "\n",
        "def pred_and_plot(model, image, transform, device):\n",
        "\n",
        "  img = Image.open(image)\n",
        "  class_names= train_dataset.classes\n",
        "  model.eval()\n",
        "  with torch.inference_mode():\n",
        "    y_logit = model(transform(img).unsqueeze(dim=0).to(device))\n",
        "    y_pred = torch.softmax(y_logit, dim=1)\n",
        "    y_prob = torch.argmax(y_pred)\n",
        "  \n",
        "  plt.figure()\n",
        "  plt.imshow(img)\n",
        "  plt.title(f\"prediction: {class_names[y_prob]} | prob: {y_pred.max()}\")\n",
        "  plt.axis(False)\n",
        "\n",
        "pred_and_plot(model=pretrained_vit,\n",
        "              image=\"data/custom.jpeg\",\n",
        "              transform=auto_transform,\n",
        "              device=device)\n"
      ]
    },
    {
      "cell_type": "markdown",
      "source": [
        "Awesome !! It could detect pizza by 99.5 % of accuracy which is prefect. If you see the end of last tutorial on experiment tracking, out best model (Eff_b2) couldn't detect pizza at all.\n",
        "\n",
        "It means the difference of these two models (effnet_b2 vs. ViT) which could be seen in the their test loss is real.\n",
        "\n",
        "So far so good ✌"
      ],
      "metadata": {
        "id": "ehsc4JGAiIQP"
      },
      "id": "ehsc4JGAiIQP"
    }
  ],
  "metadata": {
    "kernelspec": {
      "display_name": "Python 3 (ipykernel)",
      "language": "python",
      "name": "python3"
    },
    "language_info": {
      "codemirror_mode": {
        "name": "ipython",
        "version": 3
      },
      "file_extension": ".py",
      "mimetype": "text/x-python",
      "name": "python",
      "nbconvert_exporter": "python",
      "pygments_lexer": "ipython3",
      "version": "3.8.13"
    },
    "vscode": {
      "interpreter": {
        "hash": "3fbe1355223f7b2ffc113ba3ade6a2b520cadace5d5ec3e828c83ce02eb221bf"
      }
    },
    "colab": {
      "provenance": [],
      "collapsed_sections": [
        "97430d7a-a69b-423c-be2b-ac16e7f9f83f",
        "2554a736-ca45-4f83-abc3-41750c20ec58",
        "1d434f2f-2723-4ce4-8eac-32a8b9228305"
      ],
      "include_colab_link": true
    },
    "accelerator": "GPU",
    "widgets": {
      "application/vnd.jupyter.widget-state+json": {
        "0be929bbb72f431aaa88e40559f56e32": {
          "model_module": "@jupyter-widgets/controls",
          "model_name": "HBoxModel",
          "model_module_version": "1.5.0",
          "state": {
            "_dom_classes": [],
            "_model_module": "@jupyter-widgets/controls",
            "_model_module_version": "1.5.0",
            "_model_name": "HBoxModel",
            "_view_count": null,
            "_view_module": "@jupyter-widgets/controls",
            "_view_module_version": "1.5.0",
            "_view_name": "HBoxView",
            "box_style": "",
            "children": [
              "IPY_MODEL_2d205abbdff147e294870896549b8519",
              "IPY_MODEL_9b4ce1a9e012420fac024384d270ff51",
              "IPY_MODEL_4a597e26e2e6446a8d67061a81b815d7"
            ],
            "layout": "IPY_MODEL_dbcff7f462f24fcc92614c8106b0c0ce"
          }
        },
        "2d205abbdff147e294870896549b8519": {
          "model_module": "@jupyter-widgets/controls",
          "model_name": "HTMLModel",
          "model_module_version": "1.5.0",
          "state": {
            "_dom_classes": [],
            "_model_module": "@jupyter-widgets/controls",
            "_model_module_version": "1.5.0",
            "_model_name": "HTMLModel",
            "_view_count": null,
            "_view_module": "@jupyter-widgets/controls",
            "_view_module_version": "1.5.0",
            "_view_name": "HTMLView",
            "description": "",
            "description_tooltip": null,
            "layout": "IPY_MODEL_f4cfe03f86c740d088d0ca326d1fb51b",
            "placeholder": "​",
            "style": "IPY_MODEL_7f377961c338437cb878dc97da113b54",
            "value": "100%"
          }
        },
        "9b4ce1a9e012420fac024384d270ff51": {
          "model_module": "@jupyter-widgets/controls",
          "model_name": "FloatProgressModel",
          "model_module_version": "1.5.0",
          "state": {
            "_dom_classes": [],
            "_model_module": "@jupyter-widgets/controls",
            "_model_module_version": "1.5.0",
            "_model_name": "FloatProgressModel",
            "_view_count": null,
            "_view_module": "@jupyter-widgets/controls",
            "_view_module_version": "1.5.0",
            "_view_name": "ProgressView",
            "bar_style": "success",
            "description": "",
            "description_tooltip": null,
            "layout": "IPY_MODEL_2e85795a0123486eb8c3d992550e8f5d",
            "max": 5,
            "min": 0,
            "orientation": "horizontal",
            "style": "IPY_MODEL_6f8a076ad4f14b05848380876350fa4c",
            "value": 5
          }
        },
        "4a597e26e2e6446a8d67061a81b815d7": {
          "model_module": "@jupyter-widgets/controls",
          "model_name": "HTMLModel",
          "model_module_version": "1.5.0",
          "state": {
            "_dom_classes": [],
            "_model_module": "@jupyter-widgets/controls",
            "_model_module_version": "1.5.0",
            "_model_name": "HTMLModel",
            "_view_count": null,
            "_view_module": "@jupyter-widgets/controls",
            "_view_module_version": "1.5.0",
            "_view_name": "HTMLView",
            "description": "",
            "description_tooltip": null,
            "layout": "IPY_MODEL_62ff156944964085bc025aeb6990eb04",
            "placeholder": "​",
            "style": "IPY_MODEL_72c658a0471f4c4a918c78a00108025d",
            "value": " 5/5 [00:53&lt;00:00, 10.56s/it]"
          }
        },
        "dbcff7f462f24fcc92614c8106b0c0ce": {
          "model_module": "@jupyter-widgets/base",
          "model_name": "LayoutModel",
          "model_module_version": "1.2.0",
          "state": {
            "_model_module": "@jupyter-widgets/base",
            "_model_module_version": "1.2.0",
            "_model_name": "LayoutModel",
            "_view_count": null,
            "_view_module": "@jupyter-widgets/base",
            "_view_module_version": "1.2.0",
            "_view_name": "LayoutView",
            "align_content": null,
            "align_items": null,
            "align_self": null,
            "border": null,
            "bottom": null,
            "display": null,
            "flex": null,
            "flex_flow": null,
            "grid_area": null,
            "grid_auto_columns": null,
            "grid_auto_flow": null,
            "grid_auto_rows": null,
            "grid_column": null,
            "grid_gap": null,
            "grid_row": null,
            "grid_template_areas": null,
            "grid_template_columns": null,
            "grid_template_rows": null,
            "height": null,
            "justify_content": null,
            "justify_items": null,
            "left": null,
            "margin": null,
            "max_height": null,
            "max_width": null,
            "min_height": null,
            "min_width": null,
            "object_fit": null,
            "object_position": null,
            "order": null,
            "overflow": null,
            "overflow_x": null,
            "overflow_y": null,
            "padding": null,
            "right": null,
            "top": null,
            "visibility": null,
            "width": null
          }
        },
        "f4cfe03f86c740d088d0ca326d1fb51b": {
          "model_module": "@jupyter-widgets/base",
          "model_name": "LayoutModel",
          "model_module_version": "1.2.0",
          "state": {
            "_model_module": "@jupyter-widgets/base",
            "_model_module_version": "1.2.0",
            "_model_name": "LayoutModel",
            "_view_count": null,
            "_view_module": "@jupyter-widgets/base",
            "_view_module_version": "1.2.0",
            "_view_name": "LayoutView",
            "align_content": null,
            "align_items": null,
            "align_self": null,
            "border": null,
            "bottom": null,
            "display": null,
            "flex": null,
            "flex_flow": null,
            "grid_area": null,
            "grid_auto_columns": null,
            "grid_auto_flow": null,
            "grid_auto_rows": null,
            "grid_column": null,
            "grid_gap": null,
            "grid_row": null,
            "grid_template_areas": null,
            "grid_template_columns": null,
            "grid_template_rows": null,
            "height": null,
            "justify_content": null,
            "justify_items": null,
            "left": null,
            "margin": null,
            "max_height": null,
            "max_width": null,
            "min_height": null,
            "min_width": null,
            "object_fit": null,
            "object_position": null,
            "order": null,
            "overflow": null,
            "overflow_x": null,
            "overflow_y": null,
            "padding": null,
            "right": null,
            "top": null,
            "visibility": null,
            "width": null
          }
        },
        "7f377961c338437cb878dc97da113b54": {
          "model_module": "@jupyter-widgets/controls",
          "model_name": "DescriptionStyleModel",
          "model_module_version": "1.5.0",
          "state": {
            "_model_module": "@jupyter-widgets/controls",
            "_model_module_version": "1.5.0",
            "_model_name": "DescriptionStyleModel",
            "_view_count": null,
            "_view_module": "@jupyter-widgets/base",
            "_view_module_version": "1.2.0",
            "_view_name": "StyleView",
            "description_width": ""
          }
        },
        "2e85795a0123486eb8c3d992550e8f5d": {
          "model_module": "@jupyter-widgets/base",
          "model_name": "LayoutModel",
          "model_module_version": "1.2.0",
          "state": {
            "_model_module": "@jupyter-widgets/base",
            "_model_module_version": "1.2.0",
            "_model_name": "LayoutModel",
            "_view_count": null,
            "_view_module": "@jupyter-widgets/base",
            "_view_module_version": "1.2.0",
            "_view_name": "LayoutView",
            "align_content": null,
            "align_items": null,
            "align_self": null,
            "border": null,
            "bottom": null,
            "display": null,
            "flex": null,
            "flex_flow": null,
            "grid_area": null,
            "grid_auto_columns": null,
            "grid_auto_flow": null,
            "grid_auto_rows": null,
            "grid_column": null,
            "grid_gap": null,
            "grid_row": null,
            "grid_template_areas": null,
            "grid_template_columns": null,
            "grid_template_rows": null,
            "height": null,
            "justify_content": null,
            "justify_items": null,
            "left": null,
            "margin": null,
            "max_height": null,
            "max_width": null,
            "min_height": null,
            "min_width": null,
            "object_fit": null,
            "object_position": null,
            "order": null,
            "overflow": null,
            "overflow_x": null,
            "overflow_y": null,
            "padding": null,
            "right": null,
            "top": null,
            "visibility": null,
            "width": null
          }
        },
        "6f8a076ad4f14b05848380876350fa4c": {
          "model_module": "@jupyter-widgets/controls",
          "model_name": "ProgressStyleModel",
          "model_module_version": "1.5.0",
          "state": {
            "_model_module": "@jupyter-widgets/controls",
            "_model_module_version": "1.5.0",
            "_model_name": "ProgressStyleModel",
            "_view_count": null,
            "_view_module": "@jupyter-widgets/base",
            "_view_module_version": "1.2.0",
            "_view_name": "StyleView",
            "bar_color": null,
            "description_width": ""
          }
        },
        "62ff156944964085bc025aeb6990eb04": {
          "model_module": "@jupyter-widgets/base",
          "model_name": "LayoutModel",
          "model_module_version": "1.2.0",
          "state": {
            "_model_module": "@jupyter-widgets/base",
            "_model_module_version": "1.2.0",
            "_model_name": "LayoutModel",
            "_view_count": null,
            "_view_module": "@jupyter-widgets/base",
            "_view_module_version": "1.2.0",
            "_view_name": "LayoutView",
            "align_content": null,
            "align_items": null,
            "align_self": null,
            "border": null,
            "bottom": null,
            "display": null,
            "flex": null,
            "flex_flow": null,
            "grid_area": null,
            "grid_auto_columns": null,
            "grid_auto_flow": null,
            "grid_auto_rows": null,
            "grid_column": null,
            "grid_gap": null,
            "grid_row": null,
            "grid_template_areas": null,
            "grid_template_columns": null,
            "grid_template_rows": null,
            "height": null,
            "justify_content": null,
            "justify_items": null,
            "left": null,
            "margin": null,
            "max_height": null,
            "max_width": null,
            "min_height": null,
            "min_width": null,
            "object_fit": null,
            "object_position": null,
            "order": null,
            "overflow": null,
            "overflow_x": null,
            "overflow_y": null,
            "padding": null,
            "right": null,
            "top": null,
            "visibility": null,
            "width": null
          }
        },
        "72c658a0471f4c4a918c78a00108025d": {
          "model_module": "@jupyter-widgets/controls",
          "model_name": "DescriptionStyleModel",
          "model_module_version": "1.5.0",
          "state": {
            "_model_module": "@jupyter-widgets/controls",
            "_model_module_version": "1.5.0",
            "_model_name": "DescriptionStyleModel",
            "_view_count": null,
            "_view_module": "@jupyter-widgets/base",
            "_view_module_version": "1.2.0",
            "_view_name": "StyleView",
            "description_width": ""
          }
        },
        "f88f9a97b7fc4112b3b2f22d1aed746f": {
          "model_module": "@jupyter-widgets/controls",
          "model_name": "HBoxModel",
          "model_module_version": "1.5.0",
          "state": {
            "_dom_classes": [],
            "_model_module": "@jupyter-widgets/controls",
            "_model_module_version": "1.5.0",
            "_model_name": "HBoxModel",
            "_view_count": null,
            "_view_module": "@jupyter-widgets/controls",
            "_view_module_version": "1.5.0",
            "_view_name": "HBoxView",
            "box_style": "",
            "children": [
              "IPY_MODEL_ed73bdd63d3a4cc18674ecdf5069dfb1",
              "IPY_MODEL_1f0deedeb08147e2b44cedeacb5868fe",
              "IPY_MODEL_feb024def98d4e5db189f2c9e633995e"
            ],
            "layout": "IPY_MODEL_e840205a653b4b0ba9e24951b6949670"
          }
        },
        "ed73bdd63d3a4cc18674ecdf5069dfb1": {
          "model_module": "@jupyter-widgets/controls",
          "model_name": "HTMLModel",
          "model_module_version": "1.5.0",
          "state": {
            "_dom_classes": [],
            "_model_module": "@jupyter-widgets/controls",
            "_model_module_version": "1.5.0",
            "_model_name": "HTMLModel",
            "_view_count": null,
            "_view_module": "@jupyter-widgets/controls",
            "_view_module_version": "1.5.0",
            "_view_name": "HTMLView",
            "description": "",
            "description_tooltip": null,
            "layout": "IPY_MODEL_030765f591bb48f18373d28864be2089",
            "placeholder": "​",
            "style": "IPY_MODEL_58edb45ae760427381c14223823a17a5",
            "value": "100%"
          }
        },
        "1f0deedeb08147e2b44cedeacb5868fe": {
          "model_module": "@jupyter-widgets/controls",
          "model_name": "FloatProgressModel",
          "model_module_version": "1.5.0",
          "state": {
            "_dom_classes": [],
            "_model_module": "@jupyter-widgets/controls",
            "_model_module_version": "1.5.0",
            "_model_name": "FloatProgressModel",
            "_view_count": null,
            "_view_module": "@jupyter-widgets/controls",
            "_view_module_version": "1.5.0",
            "_view_name": "ProgressView",
            "bar_style": "success",
            "description": "",
            "description_tooltip": null,
            "layout": "IPY_MODEL_25994a315f3747138101de55242cbc34",
            "max": 346328529,
            "min": 0,
            "orientation": "horizontal",
            "style": "IPY_MODEL_5789624668674ee2af272a5f43c1d09d",
            "value": 346328529
          }
        },
        "feb024def98d4e5db189f2c9e633995e": {
          "model_module": "@jupyter-widgets/controls",
          "model_name": "HTMLModel",
          "model_module_version": "1.5.0",
          "state": {
            "_dom_classes": [],
            "_model_module": "@jupyter-widgets/controls",
            "_model_module_version": "1.5.0",
            "_model_name": "HTMLModel",
            "_view_count": null,
            "_view_module": "@jupyter-widgets/controls",
            "_view_module_version": "1.5.0",
            "_view_name": "HTMLView",
            "description": "",
            "description_tooltip": null,
            "layout": "IPY_MODEL_be613283dee444c09d78dd64b58e5811",
            "placeholder": "​",
            "style": "IPY_MODEL_86bf81dff6b743468299537a1b632a35",
            "value": " 330M/330M [00:04&lt;00:00, 85.9MB/s]"
          }
        },
        "e840205a653b4b0ba9e24951b6949670": {
          "model_module": "@jupyter-widgets/base",
          "model_name": "LayoutModel",
          "model_module_version": "1.2.0",
          "state": {
            "_model_module": "@jupyter-widgets/base",
            "_model_module_version": "1.2.0",
            "_model_name": "LayoutModel",
            "_view_count": null,
            "_view_module": "@jupyter-widgets/base",
            "_view_module_version": "1.2.0",
            "_view_name": "LayoutView",
            "align_content": null,
            "align_items": null,
            "align_self": null,
            "border": null,
            "bottom": null,
            "display": null,
            "flex": null,
            "flex_flow": null,
            "grid_area": null,
            "grid_auto_columns": null,
            "grid_auto_flow": null,
            "grid_auto_rows": null,
            "grid_column": null,
            "grid_gap": null,
            "grid_row": null,
            "grid_template_areas": null,
            "grid_template_columns": null,
            "grid_template_rows": null,
            "height": null,
            "justify_content": null,
            "justify_items": null,
            "left": null,
            "margin": null,
            "max_height": null,
            "max_width": null,
            "min_height": null,
            "min_width": null,
            "object_fit": null,
            "object_position": null,
            "order": null,
            "overflow": null,
            "overflow_x": null,
            "overflow_y": null,
            "padding": null,
            "right": null,
            "top": null,
            "visibility": null,
            "width": null
          }
        },
        "030765f591bb48f18373d28864be2089": {
          "model_module": "@jupyter-widgets/base",
          "model_name": "LayoutModel",
          "model_module_version": "1.2.0",
          "state": {
            "_model_module": "@jupyter-widgets/base",
            "_model_module_version": "1.2.0",
            "_model_name": "LayoutModel",
            "_view_count": null,
            "_view_module": "@jupyter-widgets/base",
            "_view_module_version": "1.2.0",
            "_view_name": "LayoutView",
            "align_content": null,
            "align_items": null,
            "align_self": null,
            "border": null,
            "bottom": null,
            "display": null,
            "flex": null,
            "flex_flow": null,
            "grid_area": null,
            "grid_auto_columns": null,
            "grid_auto_flow": null,
            "grid_auto_rows": null,
            "grid_column": null,
            "grid_gap": null,
            "grid_row": null,
            "grid_template_areas": null,
            "grid_template_columns": null,
            "grid_template_rows": null,
            "height": null,
            "justify_content": null,
            "justify_items": null,
            "left": null,
            "margin": null,
            "max_height": null,
            "max_width": null,
            "min_height": null,
            "min_width": null,
            "object_fit": null,
            "object_position": null,
            "order": null,
            "overflow": null,
            "overflow_x": null,
            "overflow_y": null,
            "padding": null,
            "right": null,
            "top": null,
            "visibility": null,
            "width": null
          }
        },
        "58edb45ae760427381c14223823a17a5": {
          "model_module": "@jupyter-widgets/controls",
          "model_name": "DescriptionStyleModel",
          "model_module_version": "1.5.0",
          "state": {
            "_model_module": "@jupyter-widgets/controls",
            "_model_module_version": "1.5.0",
            "_model_name": "DescriptionStyleModel",
            "_view_count": null,
            "_view_module": "@jupyter-widgets/base",
            "_view_module_version": "1.2.0",
            "_view_name": "StyleView",
            "description_width": ""
          }
        },
        "25994a315f3747138101de55242cbc34": {
          "model_module": "@jupyter-widgets/base",
          "model_name": "LayoutModel",
          "model_module_version": "1.2.0",
          "state": {
            "_model_module": "@jupyter-widgets/base",
            "_model_module_version": "1.2.0",
            "_model_name": "LayoutModel",
            "_view_count": null,
            "_view_module": "@jupyter-widgets/base",
            "_view_module_version": "1.2.0",
            "_view_name": "LayoutView",
            "align_content": null,
            "align_items": null,
            "align_self": null,
            "border": null,
            "bottom": null,
            "display": null,
            "flex": null,
            "flex_flow": null,
            "grid_area": null,
            "grid_auto_columns": null,
            "grid_auto_flow": null,
            "grid_auto_rows": null,
            "grid_column": null,
            "grid_gap": null,
            "grid_row": null,
            "grid_template_areas": null,
            "grid_template_columns": null,
            "grid_template_rows": null,
            "height": null,
            "justify_content": null,
            "justify_items": null,
            "left": null,
            "margin": null,
            "max_height": null,
            "max_width": null,
            "min_height": null,
            "min_width": null,
            "object_fit": null,
            "object_position": null,
            "order": null,
            "overflow": null,
            "overflow_x": null,
            "overflow_y": null,
            "padding": null,
            "right": null,
            "top": null,
            "visibility": null,
            "width": null
          }
        },
        "5789624668674ee2af272a5f43c1d09d": {
          "model_module": "@jupyter-widgets/controls",
          "model_name": "ProgressStyleModel",
          "model_module_version": "1.5.0",
          "state": {
            "_model_module": "@jupyter-widgets/controls",
            "_model_module_version": "1.5.0",
            "_model_name": "ProgressStyleModel",
            "_view_count": null,
            "_view_module": "@jupyter-widgets/base",
            "_view_module_version": "1.2.0",
            "_view_name": "StyleView",
            "bar_color": null,
            "description_width": ""
          }
        },
        "be613283dee444c09d78dd64b58e5811": {
          "model_module": "@jupyter-widgets/base",
          "model_name": "LayoutModel",
          "model_module_version": "1.2.0",
          "state": {
            "_model_module": "@jupyter-widgets/base",
            "_model_module_version": "1.2.0",
            "_model_name": "LayoutModel",
            "_view_count": null,
            "_view_module": "@jupyter-widgets/base",
            "_view_module_version": "1.2.0",
            "_view_name": "LayoutView",
            "align_content": null,
            "align_items": null,
            "align_self": null,
            "border": null,
            "bottom": null,
            "display": null,
            "flex": null,
            "flex_flow": null,
            "grid_area": null,
            "grid_auto_columns": null,
            "grid_auto_flow": null,
            "grid_auto_rows": null,
            "grid_column": null,
            "grid_gap": null,
            "grid_row": null,
            "grid_template_areas": null,
            "grid_template_columns": null,
            "grid_template_rows": null,
            "height": null,
            "justify_content": null,
            "justify_items": null,
            "left": null,
            "margin": null,
            "max_height": null,
            "max_width": null,
            "min_height": null,
            "min_width": null,
            "object_fit": null,
            "object_position": null,
            "order": null,
            "overflow": null,
            "overflow_x": null,
            "overflow_y": null,
            "padding": null,
            "right": null,
            "top": null,
            "visibility": null,
            "width": null
          }
        },
        "86bf81dff6b743468299537a1b632a35": {
          "model_module": "@jupyter-widgets/controls",
          "model_name": "DescriptionStyleModel",
          "model_module_version": "1.5.0",
          "state": {
            "_model_module": "@jupyter-widgets/controls",
            "_model_module_version": "1.5.0",
            "_model_name": "DescriptionStyleModel",
            "_view_count": null,
            "_view_module": "@jupyter-widgets/base",
            "_view_module_version": "1.2.0",
            "_view_name": "StyleView",
            "description_width": ""
          }
        },
        "615093c16c134c609fe50d2b33587fd8": {
          "model_module": "@jupyter-widgets/controls",
          "model_name": "HBoxModel",
          "model_module_version": "1.5.0",
          "state": {
            "_dom_classes": [],
            "_model_module": "@jupyter-widgets/controls",
            "_model_module_version": "1.5.0",
            "_model_name": "HBoxModel",
            "_view_count": null,
            "_view_module": "@jupyter-widgets/controls",
            "_view_module_version": "1.5.0",
            "_view_name": "HBoxView",
            "box_style": "",
            "children": [
              "IPY_MODEL_b34ec866d1ac47e4a5ddfa03730344a3",
              "IPY_MODEL_2be47bfd21764a55a0a398d1c4152b3a",
              "IPY_MODEL_3d7b159fdf1648daaf077950a4c956a6"
            ],
            "layout": "IPY_MODEL_24a8b3d7c841424d8217cddbcf0c829f"
          }
        },
        "b34ec866d1ac47e4a5ddfa03730344a3": {
          "model_module": "@jupyter-widgets/controls",
          "model_name": "HTMLModel",
          "model_module_version": "1.5.0",
          "state": {
            "_dom_classes": [],
            "_model_module": "@jupyter-widgets/controls",
            "_model_module_version": "1.5.0",
            "_model_name": "HTMLModel",
            "_view_count": null,
            "_view_module": "@jupyter-widgets/controls",
            "_view_module_version": "1.5.0",
            "_view_name": "HTMLView",
            "description": "",
            "description_tooltip": null,
            "layout": "IPY_MODEL_1faca021f2b14a36a1fc3ea2155fe508",
            "placeholder": "​",
            "style": "IPY_MODEL_82fc0768fd7c45bba2e66ad201adfe32",
            "value": "100%"
          }
        },
        "2be47bfd21764a55a0a398d1c4152b3a": {
          "model_module": "@jupyter-widgets/controls",
          "model_name": "FloatProgressModel",
          "model_module_version": "1.5.0",
          "state": {
            "_dom_classes": [],
            "_model_module": "@jupyter-widgets/controls",
            "_model_module_version": "1.5.0",
            "_model_name": "FloatProgressModel",
            "_view_count": null,
            "_view_module": "@jupyter-widgets/controls",
            "_view_module_version": "1.5.0",
            "_view_name": "ProgressView",
            "bar_style": "success",
            "description": "",
            "description_tooltip": null,
            "layout": "IPY_MODEL_d6a8eaf963c54d50bac9ddc878f57e94",
            "max": 10,
            "min": 0,
            "orientation": "horizontal",
            "style": "IPY_MODEL_5a1ad7ba7b894222a43dcb1a408ba0cc",
            "value": 10
          }
        },
        "3d7b159fdf1648daaf077950a4c956a6": {
          "model_module": "@jupyter-widgets/controls",
          "model_name": "HTMLModel",
          "model_module_version": "1.5.0",
          "state": {
            "_dom_classes": [],
            "_model_module": "@jupyter-widgets/controls",
            "_model_module_version": "1.5.0",
            "_model_name": "HTMLModel",
            "_view_count": null,
            "_view_module": "@jupyter-widgets/controls",
            "_view_module_version": "1.5.0",
            "_view_name": "HTMLView",
            "description": "",
            "description_tooltip": null,
            "layout": "IPY_MODEL_9084ce967975429b814ccceb32502a7e",
            "placeholder": "​",
            "style": "IPY_MODEL_b9f38b4b82c040a0912c20ec2e706ee1",
            "value": " 10/10 [00:49&lt;00:00,  5.29s/it]"
          }
        },
        "24a8b3d7c841424d8217cddbcf0c829f": {
          "model_module": "@jupyter-widgets/base",
          "model_name": "LayoutModel",
          "model_module_version": "1.2.0",
          "state": {
            "_model_module": "@jupyter-widgets/base",
            "_model_module_version": "1.2.0",
            "_model_name": "LayoutModel",
            "_view_count": null,
            "_view_module": "@jupyter-widgets/base",
            "_view_module_version": "1.2.0",
            "_view_name": "LayoutView",
            "align_content": null,
            "align_items": null,
            "align_self": null,
            "border": null,
            "bottom": null,
            "display": null,
            "flex": null,
            "flex_flow": null,
            "grid_area": null,
            "grid_auto_columns": null,
            "grid_auto_flow": null,
            "grid_auto_rows": null,
            "grid_column": null,
            "grid_gap": null,
            "grid_row": null,
            "grid_template_areas": null,
            "grid_template_columns": null,
            "grid_template_rows": null,
            "height": null,
            "justify_content": null,
            "justify_items": null,
            "left": null,
            "margin": null,
            "max_height": null,
            "max_width": null,
            "min_height": null,
            "min_width": null,
            "object_fit": null,
            "object_position": null,
            "order": null,
            "overflow": null,
            "overflow_x": null,
            "overflow_y": null,
            "padding": null,
            "right": null,
            "top": null,
            "visibility": null,
            "width": null
          }
        },
        "1faca021f2b14a36a1fc3ea2155fe508": {
          "model_module": "@jupyter-widgets/base",
          "model_name": "LayoutModel",
          "model_module_version": "1.2.0",
          "state": {
            "_model_module": "@jupyter-widgets/base",
            "_model_module_version": "1.2.0",
            "_model_name": "LayoutModel",
            "_view_count": null,
            "_view_module": "@jupyter-widgets/base",
            "_view_module_version": "1.2.0",
            "_view_name": "LayoutView",
            "align_content": null,
            "align_items": null,
            "align_self": null,
            "border": null,
            "bottom": null,
            "display": null,
            "flex": null,
            "flex_flow": null,
            "grid_area": null,
            "grid_auto_columns": null,
            "grid_auto_flow": null,
            "grid_auto_rows": null,
            "grid_column": null,
            "grid_gap": null,
            "grid_row": null,
            "grid_template_areas": null,
            "grid_template_columns": null,
            "grid_template_rows": null,
            "height": null,
            "justify_content": null,
            "justify_items": null,
            "left": null,
            "margin": null,
            "max_height": null,
            "max_width": null,
            "min_height": null,
            "min_width": null,
            "object_fit": null,
            "object_position": null,
            "order": null,
            "overflow": null,
            "overflow_x": null,
            "overflow_y": null,
            "padding": null,
            "right": null,
            "top": null,
            "visibility": null,
            "width": null
          }
        },
        "82fc0768fd7c45bba2e66ad201adfe32": {
          "model_module": "@jupyter-widgets/controls",
          "model_name": "DescriptionStyleModel",
          "model_module_version": "1.5.0",
          "state": {
            "_model_module": "@jupyter-widgets/controls",
            "_model_module_version": "1.5.0",
            "_model_name": "DescriptionStyleModel",
            "_view_count": null,
            "_view_module": "@jupyter-widgets/base",
            "_view_module_version": "1.2.0",
            "_view_name": "StyleView",
            "description_width": ""
          }
        },
        "d6a8eaf963c54d50bac9ddc878f57e94": {
          "model_module": "@jupyter-widgets/base",
          "model_name": "LayoutModel",
          "model_module_version": "1.2.0",
          "state": {
            "_model_module": "@jupyter-widgets/base",
            "_model_module_version": "1.2.0",
            "_model_name": "LayoutModel",
            "_view_count": null,
            "_view_module": "@jupyter-widgets/base",
            "_view_module_version": "1.2.0",
            "_view_name": "LayoutView",
            "align_content": null,
            "align_items": null,
            "align_self": null,
            "border": null,
            "bottom": null,
            "display": null,
            "flex": null,
            "flex_flow": null,
            "grid_area": null,
            "grid_auto_columns": null,
            "grid_auto_flow": null,
            "grid_auto_rows": null,
            "grid_column": null,
            "grid_gap": null,
            "grid_row": null,
            "grid_template_areas": null,
            "grid_template_columns": null,
            "grid_template_rows": null,
            "height": null,
            "justify_content": null,
            "justify_items": null,
            "left": null,
            "margin": null,
            "max_height": null,
            "max_width": null,
            "min_height": null,
            "min_width": null,
            "object_fit": null,
            "object_position": null,
            "order": null,
            "overflow": null,
            "overflow_x": null,
            "overflow_y": null,
            "padding": null,
            "right": null,
            "top": null,
            "visibility": null,
            "width": null
          }
        },
        "5a1ad7ba7b894222a43dcb1a408ba0cc": {
          "model_module": "@jupyter-widgets/controls",
          "model_name": "ProgressStyleModel",
          "model_module_version": "1.5.0",
          "state": {
            "_model_module": "@jupyter-widgets/controls",
            "_model_module_version": "1.5.0",
            "_model_name": "ProgressStyleModel",
            "_view_count": null,
            "_view_module": "@jupyter-widgets/base",
            "_view_module_version": "1.2.0",
            "_view_name": "StyleView",
            "bar_color": null,
            "description_width": ""
          }
        },
        "9084ce967975429b814ccceb32502a7e": {
          "model_module": "@jupyter-widgets/base",
          "model_name": "LayoutModel",
          "model_module_version": "1.2.0",
          "state": {
            "_model_module": "@jupyter-widgets/base",
            "_model_module_version": "1.2.0",
            "_model_name": "LayoutModel",
            "_view_count": null,
            "_view_module": "@jupyter-widgets/base",
            "_view_module_version": "1.2.0",
            "_view_name": "LayoutView",
            "align_content": null,
            "align_items": null,
            "align_self": null,
            "border": null,
            "bottom": null,
            "display": null,
            "flex": null,
            "flex_flow": null,
            "grid_area": null,
            "grid_auto_columns": null,
            "grid_auto_flow": null,
            "grid_auto_rows": null,
            "grid_column": null,
            "grid_gap": null,
            "grid_row": null,
            "grid_template_areas": null,
            "grid_template_columns": null,
            "grid_template_rows": null,
            "height": null,
            "justify_content": null,
            "justify_items": null,
            "left": null,
            "margin": null,
            "max_height": null,
            "max_width": null,
            "min_height": null,
            "min_width": null,
            "object_fit": null,
            "object_position": null,
            "order": null,
            "overflow": null,
            "overflow_x": null,
            "overflow_y": null,
            "padding": null,
            "right": null,
            "top": null,
            "visibility": null,
            "width": null
          }
        },
        "b9f38b4b82c040a0912c20ec2e706ee1": {
          "model_module": "@jupyter-widgets/controls",
          "model_name": "DescriptionStyleModel",
          "model_module_version": "1.5.0",
          "state": {
            "_model_module": "@jupyter-widgets/controls",
            "_model_module_version": "1.5.0",
            "_model_name": "DescriptionStyleModel",
            "_view_count": null,
            "_view_module": "@jupyter-widgets/base",
            "_view_module_version": "1.2.0",
            "_view_name": "StyleView",
            "description_width": ""
          }
        }
      }
    }
  },
  "nbformat": 4,
  "nbformat_minor": 5
}